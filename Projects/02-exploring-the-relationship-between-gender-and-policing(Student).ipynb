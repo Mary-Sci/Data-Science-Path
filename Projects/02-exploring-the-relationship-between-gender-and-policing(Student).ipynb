{
 "cells": [
  {
   "cell_type": "markdown",
   "metadata": {},
   "source": [
    "___\n",
    "\n",
    "<p style=\"text-align: center;\"><img src=\"https://docs.google.com/uc?id=1lY0Uj5R04yMY3-ZppPWxqCr5pvBLYPnV\" class=\"img-fluid\" alt=\"CLRSWY\"></p>\n",
    "\n",
    "___"
   ]
  },
  {
   "cell_type": "markdown",
   "metadata": {},
   "source": [
    "<h1><p style=\"text-align: center;\">Data Analysis with Python <br>Project - 1</p><h1> - Traffic Police Stops <img src=\"https://docs.google.com/uc?id=17CPCwi3_VvzcS87TOsh4_U8eExOhL6Ki\" class=\"img-fluid\" alt=\"CLRSWY\" width=\"200\" height=\"100\"> "
   ]
  },
  {
   "cell_type": "markdown",
   "metadata": {},
   "source": [
    "Does the ``gender`` of a driver have an impact on police behavior during a traffic stop? **In this chapter**, you will explore that question while practicing filtering, grouping, method chaining, Boolean math, string methods, and more!"
   ]
  },
  {
   "cell_type": "markdown",
   "metadata": {},
   "source": [
    "***"
   ]
  },
  {
   "cell_type": "markdown",
   "metadata": {},
   "source": [
    "## Examining traffic violations"
   ]
  },
  {
   "cell_type": "markdown",
   "metadata": {},
   "source": [
    "Before comparing the violations being committed by each gender, you should examine the ``violations`` committed by all drivers to get a baseline understanding of the data.\n",
    "\n",
    "In this exercise, you'll count the unique values in the ``violation`` column, and then separately express those counts as proportions."
   ]
  },
  {
   "cell_type": "markdown",
   "metadata": {},
   "source": [
    "> Before starting your work in this section **repeat the steps which you did in the previos chapter for preparing the data.** Continue to this chapter based on where you were in the end of the previous chapter."
   ]
  },
  {
   "cell_type": "code",
   "execution_count": 1,
   "metadata": {},
   "outputs": [
    {
     "name": "stderr",
     "output_type": "stream",
     "text": [
      "C:\\Anaconda3\\lib\\site-packages\\IPython\\core\\interactiveshell.py:3063: DtypeWarning: Columns (8,16) have mixed types.Specify dtype option on import or set low_memory=False.\n",
      "  interactivity=interactivity, compiler=compiler, result=result)\n"
     ]
    }
   ],
   "source": [
    "%run ./01PreparingTheDataForAnalysis.ipynb"
   ]
  },
  {
   "cell_type": "markdown",
   "metadata": {},
   "source": [
    "**INSTRUCTIONS**\n",
    "\n",
    "*   Count the unique values in the ``violation`` column, to see what violations are being committed by all drivers.\n",
    "*   Express the violation counts as proportions of the total."
   ]
  },
  {
   "cell_type": "code",
   "execution_count": 2,
   "metadata": {},
   "outputs": [
    {
     "data": {
      "text/html": [
       "<div>\n",
       "<style scoped>\n",
       "    .dataframe tbody tr th:only-of-type {\n",
       "        vertical-align: middle;\n",
       "    }\n",
       "\n",
       "    .dataframe tbody tr th {\n",
       "        vertical-align: top;\n",
       "    }\n",
       "\n",
       "    .dataframe thead th {\n",
       "        text-align: right;\n",
       "    }\n",
       "</style>\n",
       "<table border=\"1\" class=\"dataframe\">\n",
       "  <thead>\n",
       "    <tr style=\"text-align: right;\">\n",
       "      <th></th>\n",
       "      <th>id</th>\n",
       "      <th>stop_date</th>\n",
       "      <th>stop_time</th>\n",
       "      <th>location_raw</th>\n",
       "      <th>county_fips</th>\n",
       "      <th>fine_grained_location</th>\n",
       "      <th>police_department</th>\n",
       "      <th>driver_gender</th>\n",
       "      <th>driver_age_raw</th>\n",
       "      <th>driver_age</th>\n",
       "      <th>...</th>\n",
       "      <th>search_type_raw</th>\n",
       "      <th>search_type</th>\n",
       "      <th>contraband_found</th>\n",
       "      <th>stop_outcome</th>\n",
       "      <th>is_arrested</th>\n",
       "      <th>stop_duration</th>\n",
       "      <th>out_of_state</th>\n",
       "      <th>drugs_related_stop</th>\n",
       "      <th>district</th>\n",
       "      <th>combined</th>\n",
       "    </tr>\n",
       "    <tr>\n",
       "      <th>stop_datetime</th>\n",
       "      <th></th>\n",
       "      <th></th>\n",
       "      <th></th>\n",
       "      <th></th>\n",
       "      <th></th>\n",
       "      <th></th>\n",
       "      <th></th>\n",
       "      <th></th>\n",
       "      <th></th>\n",
       "      <th></th>\n",
       "      <th></th>\n",
       "      <th></th>\n",
       "      <th></th>\n",
       "      <th></th>\n",
       "      <th></th>\n",
       "      <th></th>\n",
       "      <th></th>\n",
       "      <th></th>\n",
       "      <th></th>\n",
       "      <th></th>\n",
       "      <th></th>\n",
       "    </tr>\n",
       "  </thead>\n",
       "  <tbody>\n",
       "    <tr>\n",
       "      <th>2005-01-02 01:55:00</th>\n",
       "      <td>RI-2005-00001</td>\n",
       "      <td>2005-01-02</td>\n",
       "      <td>01:55</td>\n",
       "      <td>Zone K1</td>\n",
       "      <td>NaN</td>\n",
       "      <td>NaN</td>\n",
       "      <td>600</td>\n",
       "      <td>M</td>\n",
       "      <td>1985.0</td>\n",
       "      <td>20.0</td>\n",
       "      <td>...</td>\n",
       "      <td>NaN</td>\n",
       "      <td>NaN</td>\n",
       "      <td>False</td>\n",
       "      <td>Citation</td>\n",
       "      <td>False</td>\n",
       "      <td>0-15 Min</td>\n",
       "      <td>False</td>\n",
       "      <td>False</td>\n",
       "      <td>Zone K1</td>\n",
       "      <td>2005-01-02 01:55</td>\n",
       "    </tr>\n",
       "    <tr>\n",
       "      <th>2005-01-02 20:30:00</th>\n",
       "      <td>RI-2005-00002</td>\n",
       "      <td>2005-01-02</td>\n",
       "      <td>20:30</td>\n",
       "      <td>Zone X4</td>\n",
       "      <td>NaN</td>\n",
       "      <td>NaN</td>\n",
       "      <td>500</td>\n",
       "      <td>M</td>\n",
       "      <td>1987.0</td>\n",
       "      <td>18.0</td>\n",
       "      <td>...</td>\n",
       "      <td>NaN</td>\n",
       "      <td>NaN</td>\n",
       "      <td>False</td>\n",
       "      <td>Citation</td>\n",
       "      <td>False</td>\n",
       "      <td>16-30 Min</td>\n",
       "      <td>False</td>\n",
       "      <td>False</td>\n",
       "      <td>Zone X4</td>\n",
       "      <td>2005-01-02 20:30</td>\n",
       "    </tr>\n",
       "    <tr>\n",
       "      <th>2005-01-04 12:55:00</th>\n",
       "      <td>RI-2005-00004</td>\n",
       "      <td>2005-01-04</td>\n",
       "      <td>12:55</td>\n",
       "      <td>Zone X4</td>\n",
       "      <td>NaN</td>\n",
       "      <td>NaN</td>\n",
       "      <td>500</td>\n",
       "      <td>M</td>\n",
       "      <td>1986.0</td>\n",
       "      <td>19.0</td>\n",
       "      <td>...</td>\n",
       "      <td>NaN</td>\n",
       "      <td>NaN</td>\n",
       "      <td>False</td>\n",
       "      <td>Citation</td>\n",
       "      <td>False</td>\n",
       "      <td>0-15 Min</td>\n",
       "      <td>False</td>\n",
       "      <td>False</td>\n",
       "      <td>Zone X4</td>\n",
       "      <td>2005-01-04 12:55</td>\n",
       "    </tr>\n",
       "    <tr>\n",
       "      <th>2005-01-06 01:30:00</th>\n",
       "      <td>RI-2005-00005</td>\n",
       "      <td>2005-01-06</td>\n",
       "      <td>01:30</td>\n",
       "      <td>Zone X4</td>\n",
       "      <td>NaN</td>\n",
       "      <td>NaN</td>\n",
       "      <td>500</td>\n",
       "      <td>M</td>\n",
       "      <td>1978.0</td>\n",
       "      <td>27.0</td>\n",
       "      <td>...</td>\n",
       "      <td>NaN</td>\n",
       "      <td>NaN</td>\n",
       "      <td>False</td>\n",
       "      <td>Citation</td>\n",
       "      <td>False</td>\n",
       "      <td>0-15 Min</td>\n",
       "      <td>False</td>\n",
       "      <td>False</td>\n",
       "      <td>Zone X4</td>\n",
       "      <td>2005-01-06 01:30</td>\n",
       "    </tr>\n",
       "    <tr>\n",
       "      <th>2005-01-12 08:05:00</th>\n",
       "      <td>RI-2005-00006</td>\n",
       "      <td>2005-01-12</td>\n",
       "      <td>08:05</td>\n",
       "      <td>Zone X1</td>\n",
       "      <td>NaN</td>\n",
       "      <td>NaN</td>\n",
       "      <td>0</td>\n",
       "      <td>M</td>\n",
       "      <td>1973.0</td>\n",
       "      <td>32.0</td>\n",
       "      <td>...</td>\n",
       "      <td>NaN</td>\n",
       "      <td>NaN</td>\n",
       "      <td>False</td>\n",
       "      <td>Citation</td>\n",
       "      <td>False</td>\n",
       "      <td>30+ Min</td>\n",
       "      <td>True</td>\n",
       "      <td>False</td>\n",
       "      <td>Zone X1</td>\n",
       "      <td>2005-01-12 08:05</td>\n",
       "    </tr>\n",
       "  </tbody>\n",
       "</table>\n",
       "<p>5 rows × 25 columns</p>\n",
       "</div>"
      ],
      "text/plain": [
       "                                id   stop_date stop_time location_raw  \\\n",
       "stop_datetime                                                           \n",
       "2005-01-02 01:55:00  RI-2005-00001  2005-01-02     01:55      Zone K1   \n",
       "2005-01-02 20:30:00  RI-2005-00002  2005-01-02     20:30      Zone X4   \n",
       "2005-01-04 12:55:00  RI-2005-00004  2005-01-04     12:55      Zone X4   \n",
       "2005-01-06 01:30:00  RI-2005-00005  2005-01-06     01:30      Zone X4   \n",
       "2005-01-12 08:05:00  RI-2005-00006  2005-01-12     08:05      Zone X1   \n",
       "\n",
       "                     county_fips  fine_grained_location police_department  \\\n",
       "stop_datetime                                                               \n",
       "2005-01-02 01:55:00          NaN                    NaN               600   \n",
       "2005-01-02 20:30:00          NaN                    NaN               500   \n",
       "2005-01-04 12:55:00          NaN                    NaN               500   \n",
       "2005-01-06 01:30:00          NaN                    NaN               500   \n",
       "2005-01-12 08:05:00          NaN                    NaN                 0   \n",
       "\n",
       "                    driver_gender  driver_age_raw  driver_age  ...  \\\n",
       "stop_datetime                                                  ...   \n",
       "2005-01-02 01:55:00             M          1985.0        20.0  ...   \n",
       "2005-01-02 20:30:00             M          1987.0        18.0  ...   \n",
       "2005-01-04 12:55:00             M          1986.0        19.0  ...   \n",
       "2005-01-06 01:30:00             M          1978.0        27.0  ...   \n",
       "2005-01-12 08:05:00             M          1973.0        32.0  ...   \n",
       "\n",
       "                    search_type_raw search_type contraband_found stop_outcome  \\\n",
       "stop_datetime                                                                   \n",
       "2005-01-02 01:55:00             NaN         NaN            False     Citation   \n",
       "2005-01-02 20:30:00             NaN         NaN            False     Citation   \n",
       "2005-01-04 12:55:00             NaN         NaN            False     Citation   \n",
       "2005-01-06 01:30:00             NaN         NaN            False     Citation   \n",
       "2005-01-12 08:05:00             NaN         NaN            False     Citation   \n",
       "\n",
       "                    is_arrested stop_duration out_of_state  \\\n",
       "stop_datetime                                                \n",
       "2005-01-02 01:55:00       False      0-15 Min        False   \n",
       "2005-01-02 20:30:00       False     16-30 Min        False   \n",
       "2005-01-04 12:55:00       False      0-15 Min        False   \n",
       "2005-01-06 01:30:00       False      0-15 Min        False   \n",
       "2005-01-12 08:05:00       False       30+ Min         True   \n",
       "\n",
       "                     drugs_related_stop district          combined  \n",
       "stop_datetime                                                       \n",
       "2005-01-02 01:55:00               False  Zone K1  2005-01-02 01:55  \n",
       "2005-01-02 20:30:00               False  Zone X4  2005-01-02 20:30  \n",
       "2005-01-04 12:55:00               False  Zone X4  2005-01-04 12:55  \n",
       "2005-01-06 01:30:00               False  Zone X4  2005-01-06 01:30  \n",
       "2005-01-12 08:05:00               False  Zone X1  2005-01-12 08:05  \n",
       "\n",
       "[5 rows x 25 columns]"
      ]
     },
     "execution_count": 2,
     "metadata": {},
     "output_type": "execute_result"
    }
   ],
   "source": [
    "#Count the unique values in the violation column, \n",
    "#to see what violations are being committed by all drivers.\n",
    "\n",
    "ri.head()"
   ]
  },
  {
   "cell_type": "code",
   "execution_count": 3,
   "metadata": {},
   "outputs": [
    {
     "data": {
      "text/plain": [
       "Speeding               36111\n",
       "Moving violation        6522\n",
       "Equipment               3022\n",
       "Registration/plates     1463\n",
       "Other                    892\n",
       "Name: violation, dtype: int64"
      ]
     },
     "execution_count": 3,
     "metadata": {},
     "output_type": "execute_result"
    }
   ],
   "source": [
    "ri['violation'].value_counts()   # Count the unique values in the violation column."
   ]
  },
  {
   "cell_type": "code",
   "execution_count": 4,
   "metadata": {},
   "outputs": [
    {
     "data": {
      "text/plain": [
       "Speeding               75.215580\n",
       "Moving violation       13.584670\n",
       "Equipment               6.294522\n",
       "Registration/plates     3.047282\n",
       "Other                   1.857946\n",
       "Name: violation, dtype: float64"
      ]
     },
     "execution_count": 4,
     "metadata": {},
     "output_type": "execute_result"
    }
   ],
   "source": [
    "a = ri[\"violation\"].value_counts()    # Express the violation counts as proportions of the total\n",
    "b = (a/a.sum()) * 100\n",
    "b"
   ]
  },
  {
   "cell_type": "code",
   "execution_count": 5,
   "metadata": {},
   "outputs": [
    {
     "data": {
      "text/plain": [
       "Speeding               0.752156\n",
       "Moving violation       0.135847\n",
       "Equipment              0.062945\n",
       "Registration/plates    0.030473\n",
       "Other                  0.018579\n",
       "Name: violation, dtype: float64"
      ]
     },
     "execution_count": 5,
     "metadata": {},
     "output_type": "execute_result"
    }
   ],
   "source": [
    "ri.violation.value_counts(normalize=True) # Joseph hoca"
   ]
  },
  {
   "cell_type": "code",
   "execution_count": 6,
   "metadata": {},
   "outputs": [
    {
     "data": {
      "text/plain": [
       "Speeding               75.215580\n",
       "Moving violation       13.584670\n",
       "Equipment               6.294522\n",
       "Registration/plates     3.047282\n",
       "Other                   1.857946\n",
       "Name: violation, dtype: float64"
      ]
     },
     "execution_count": 6,
     "metadata": {},
     "output_type": "execute_result"
    }
   ],
   "source": [
    "ri[\"violation\"].value_counts() / ri[\"violation\"].value_counts().sum() * 100 \n",
    "\n",
    "# Express the violation counts as proportions of the total"
   ]
  },
  {
   "cell_type": "code",
   "execution_count": 47,
   "metadata": {},
   "outputs": [],
   "source": [
    "def calculate_value_counts(df, i):\n",
    "    percent = df[i].value_counts()*100/df.shape[0]\n",
    "    piece = df[i].value_counts()\n",
    "    return pd.DataFrame(list(zip(piece, percent)), columns = [\"piece\", \"percent(%)\"],index=  df[i].value_counts().keys())"
   ]
  },
  {
   "cell_type": "code",
   "execution_count": 49,
   "metadata": {},
   "outputs": [
    {
     "data": {
      "text/html": [
       "<div>\n",
       "<style scoped>\n",
       "    .dataframe tbody tr th:only-of-type {\n",
       "        vertical-align: middle;\n",
       "    }\n",
       "\n",
       "    .dataframe tbody tr th {\n",
       "        vertical-align: top;\n",
       "    }\n",
       "\n",
       "    .dataframe thead th {\n",
       "        text-align: right;\n",
       "    }\n",
       "</style>\n",
       "<table border=\"1\" class=\"dataframe\">\n",
       "  <thead>\n",
       "    <tr style=\"text-align: right;\">\n",
       "      <th></th>\n",
       "      <th>piece</th>\n",
       "      <th>percent(%)</th>\n",
       "    </tr>\n",
       "  </thead>\n",
       "  <tbody>\n",
       "    <tr>\n",
       "      <th>Speeding</th>\n",
       "      <td>36111</td>\n",
       "      <td>75.215580</td>\n",
       "    </tr>\n",
       "    <tr>\n",
       "      <th>Moving violation</th>\n",
       "      <td>6522</td>\n",
       "      <td>13.584670</td>\n",
       "    </tr>\n",
       "    <tr>\n",
       "      <th>Equipment</th>\n",
       "      <td>3022</td>\n",
       "      <td>6.294522</td>\n",
       "    </tr>\n",
       "    <tr>\n",
       "      <th>Registration/plates</th>\n",
       "      <td>1463</td>\n",
       "      <td>3.047282</td>\n",
       "    </tr>\n",
       "    <tr>\n",
       "      <th>Other</th>\n",
       "      <td>892</td>\n",
       "      <td>1.857946</td>\n",
       "    </tr>\n",
       "  </tbody>\n",
       "</table>\n",
       "</div>"
      ],
      "text/plain": [
       "                     piece  percent(%)\n",
       "Speeding             36111   75.215580\n",
       "Moving violation      6522   13.584670\n",
       "Equipment             3022    6.294522\n",
       "Registration/plates   1463    3.047282\n",
       "Other                  892    1.857946"
      ]
     },
     "execution_count": 49,
     "metadata": {},
     "output_type": "execute_result"
    }
   ],
   "source": [
    "calculate_value_counts(ri, \"violation\")"
   ]
  },
  {
   "cell_type": "markdown",
   "metadata": {},
   "source": [
    "***"
   ]
  },
  {
   "cell_type": "markdown",
   "metadata": {},
   "source": [
    "## Comparing violations by gender"
   ]
  },
  {
   "cell_type": "markdown",
   "metadata": {},
   "source": [
    "The question we're trying to answer is whether male and female drivers tend to commit different types of traffic violations.\n",
    "\n",
    "You'll first create a ``DataFrame`` for each gender, and then analyze the ``violations`` in each ``DataFrame`` separately."
   ]
  },
  {
   "cell_type": "markdown",
   "metadata": {},
   "source": [
    "**INSTRUCTIONS**\n",
    "\n",
    "*   Create a ``DataFrame``, female, that only contains rows in which ``driver_gender`` is ``'F'``.\n",
    "*   Create a ``DataFrame``, male, that only contains rows in which ``driver_gender`` is ``'M'``.\n",
    "*   Count the ``violations`` committed by female drivers and express them as proportions.\n",
    "*   Count the violations committed by male drivers and express them as proportions."
   ]
  },
  {
   "cell_type": "code",
   "execution_count": 8,
   "metadata": {},
   "outputs": [
    {
     "data": {
      "text/html": [
       "<div>\n",
       "<style scoped>\n",
       "    .dataframe tbody tr th:only-of-type {\n",
       "        vertical-align: middle;\n",
       "    }\n",
       "\n",
       "    .dataframe tbody tr th {\n",
       "        vertical-align: top;\n",
       "    }\n",
       "\n",
       "    .dataframe thead th {\n",
       "        text-align: right;\n",
       "    }\n",
       "</style>\n",
       "<table border=\"1\" class=\"dataframe\">\n",
       "  <thead>\n",
       "    <tr style=\"text-align: right;\">\n",
       "      <th></th>\n",
       "      <th>id</th>\n",
       "      <th>stop_date</th>\n",
       "      <th>stop_time</th>\n",
       "      <th>location_raw</th>\n",
       "      <th>county_fips</th>\n",
       "      <th>fine_grained_location</th>\n",
       "      <th>police_department</th>\n",
       "      <th>driver_gender</th>\n",
       "      <th>driver_age_raw</th>\n",
       "      <th>driver_age</th>\n",
       "      <th>...</th>\n",
       "      <th>search_type_raw</th>\n",
       "      <th>search_type</th>\n",
       "      <th>contraband_found</th>\n",
       "      <th>stop_outcome</th>\n",
       "      <th>is_arrested</th>\n",
       "      <th>stop_duration</th>\n",
       "      <th>out_of_state</th>\n",
       "      <th>drugs_related_stop</th>\n",
       "      <th>district</th>\n",
       "      <th>combined</th>\n",
       "    </tr>\n",
       "    <tr>\n",
       "      <th>stop_datetime</th>\n",
       "      <th></th>\n",
       "      <th></th>\n",
       "      <th></th>\n",
       "      <th></th>\n",
       "      <th></th>\n",
       "      <th></th>\n",
       "      <th></th>\n",
       "      <th></th>\n",
       "      <th></th>\n",
       "      <th></th>\n",
       "      <th></th>\n",
       "      <th></th>\n",
       "      <th></th>\n",
       "      <th></th>\n",
       "      <th></th>\n",
       "      <th></th>\n",
       "      <th></th>\n",
       "      <th></th>\n",
       "      <th></th>\n",
       "      <th></th>\n",
       "      <th></th>\n",
       "    </tr>\n",
       "  </thead>\n",
       "  <tbody>\n",
       "    <tr>\n",
       "      <th>2005-02-24 01:20:00</th>\n",
       "      <td>RI-2005-00016</td>\n",
       "      <td>2005-02-24</td>\n",
       "      <td>01:20</td>\n",
       "      <td>Zone X3</td>\n",
       "      <td>NaN</td>\n",
       "      <td>NaN</td>\n",
       "      <td>200</td>\n",
       "      <td>F</td>\n",
       "      <td>1983.0</td>\n",
       "      <td>22.0</td>\n",
       "      <td>...</td>\n",
       "      <td>NaN</td>\n",
       "      <td>NaN</td>\n",
       "      <td>False</td>\n",
       "      <td>Citation</td>\n",
       "      <td>False</td>\n",
       "      <td>0-15 Min</td>\n",
       "      <td>True</td>\n",
       "      <td>False</td>\n",
       "      <td>Zone X3</td>\n",
       "      <td>2005-02-24 01:20</td>\n",
       "    </tr>\n",
       "    <tr>\n",
       "      <th>2005-03-14 10:00:00</th>\n",
       "      <td>RI-2005-00019</td>\n",
       "      <td>2005-03-14</td>\n",
       "      <td>10:00</td>\n",
       "      <td>Zone K3</td>\n",
       "      <td>NaN</td>\n",
       "      <td>NaN</td>\n",
       "      <td>300</td>\n",
       "      <td>F</td>\n",
       "      <td>1984.0</td>\n",
       "      <td>21.0</td>\n",
       "      <td>...</td>\n",
       "      <td>NaN</td>\n",
       "      <td>NaN</td>\n",
       "      <td>False</td>\n",
       "      <td>Citation</td>\n",
       "      <td>False</td>\n",
       "      <td>0-15 Min</td>\n",
       "      <td>False</td>\n",
       "      <td>False</td>\n",
       "      <td>Zone K3</td>\n",
       "      <td>2005-03-14 10:00</td>\n",
       "    </tr>\n",
       "    <tr>\n",
       "      <th>2005-03-29 23:20:00</th>\n",
       "      <td>RI-2005-00026</td>\n",
       "      <td>2005-03-29</td>\n",
       "      <td>23:20</td>\n",
       "      <td>Zone K3</td>\n",
       "      <td>NaN</td>\n",
       "      <td>NaN</td>\n",
       "      <td>300</td>\n",
       "      <td>F</td>\n",
       "      <td>1971.0</td>\n",
       "      <td>34.0</td>\n",
       "      <td>...</td>\n",
       "      <td>NaN</td>\n",
       "      <td>NaN</td>\n",
       "      <td>False</td>\n",
       "      <td>Citation</td>\n",
       "      <td>False</td>\n",
       "      <td>0-15 Min</td>\n",
       "      <td>True</td>\n",
       "      <td>False</td>\n",
       "      <td>Zone K3</td>\n",
       "      <td>2005-03-29 23:20</td>\n",
       "    </tr>\n",
       "    <tr>\n",
       "      <th>2005-06-06 13:20:00</th>\n",
       "      <td>RI-2005-00035</td>\n",
       "      <td>2005-06-06</td>\n",
       "      <td>13:20</td>\n",
       "      <td>Zone X4</td>\n",
       "      <td>NaN</td>\n",
       "      <td>NaN</td>\n",
       "      <td>500</td>\n",
       "      <td>F</td>\n",
       "      <td>1986.0</td>\n",
       "      <td>19.0</td>\n",
       "      <td>...</td>\n",
       "      <td>NaN</td>\n",
       "      <td>NaN</td>\n",
       "      <td>False</td>\n",
       "      <td>Citation</td>\n",
       "      <td>False</td>\n",
       "      <td>0-15 Min</td>\n",
       "      <td>False</td>\n",
       "      <td>False</td>\n",
       "      <td>Zone X4</td>\n",
       "      <td>2005-06-06 13:20</td>\n",
       "    </tr>\n",
       "    <tr>\n",
       "      <th>2005-06-18 16:30:00</th>\n",
       "      <td>RI-2005-00037</td>\n",
       "      <td>2005-06-18</td>\n",
       "      <td>16:30</td>\n",
       "      <td>Zone X4</td>\n",
       "      <td>NaN</td>\n",
       "      <td>NaN</td>\n",
       "      <td>500</td>\n",
       "      <td>F</td>\n",
       "      <td>1964.0</td>\n",
       "      <td>41.0</td>\n",
       "      <td>...</td>\n",
       "      <td>NaN</td>\n",
       "      <td>NaN</td>\n",
       "      <td>False</td>\n",
       "      <td>Arrest Driver</td>\n",
       "      <td>True</td>\n",
       "      <td>30+ Min</td>\n",
       "      <td>False</td>\n",
       "      <td>False</td>\n",
       "      <td>Zone X4</td>\n",
       "      <td>2005-06-18 16:30</td>\n",
       "    </tr>\n",
       "    <tr>\n",
       "      <th>...</th>\n",
       "      <td>...</td>\n",
       "      <td>...</td>\n",
       "      <td>...</td>\n",
       "      <td>...</td>\n",
       "      <td>...</td>\n",
       "      <td>...</td>\n",
       "      <td>...</td>\n",
       "      <td>...</td>\n",
       "      <td>...</td>\n",
       "      <td>...</td>\n",
       "      <td>...</td>\n",
       "      <td>...</td>\n",
       "      <td>...</td>\n",
       "      <td>...</td>\n",
       "      <td>...</td>\n",
       "      <td>...</td>\n",
       "      <td>...</td>\n",
       "      <td>...</td>\n",
       "      <td>...</td>\n",
       "      <td>...</td>\n",
       "      <td>...</td>\n",
       "    </tr>\n",
       "    <tr>\n",
       "      <th>2006-08-08 22:20:00</th>\n",
       "      <td>RI-2006-35911</td>\n",
       "      <td>2006-08-08</td>\n",
       "      <td>22:20</td>\n",
       "      <td>Zone K3</td>\n",
       "      <td>NaN</td>\n",
       "      <td>NaN</td>\n",
       "      <td>300</td>\n",
       "      <td>F</td>\n",
       "      <td>1980.0</td>\n",
       "      <td>26.0</td>\n",
       "      <td>...</td>\n",
       "      <td>NaN</td>\n",
       "      <td>NaN</td>\n",
       "      <td>False</td>\n",
       "      <td>Citation</td>\n",
       "      <td>False</td>\n",
       "      <td>0-15 Min</td>\n",
       "      <td>True</td>\n",
       "      <td>False</td>\n",
       "      <td>Zone K3</td>\n",
       "      <td>2006-08-08 22:20</td>\n",
       "    </tr>\n",
       "    <tr>\n",
       "      <th>2006-08-08 22:25:00</th>\n",
       "      <td>RI-2006-35913</td>\n",
       "      <td>2006-08-08</td>\n",
       "      <td>22:25</td>\n",
       "      <td>Zone K3</td>\n",
       "      <td>NaN</td>\n",
       "      <td>NaN</td>\n",
       "      <td>300</td>\n",
       "      <td>F</td>\n",
       "      <td>1987.0</td>\n",
       "      <td>19.0</td>\n",
       "      <td>...</td>\n",
       "      <td>NaN</td>\n",
       "      <td>NaN</td>\n",
       "      <td>False</td>\n",
       "      <td>Citation</td>\n",
       "      <td>False</td>\n",
       "      <td>0-15 Min</td>\n",
       "      <td>True</td>\n",
       "      <td>False</td>\n",
       "      <td>Zone K3</td>\n",
       "      <td>2006-08-08 22:25</td>\n",
       "    </tr>\n",
       "    <tr>\n",
       "      <th>2006-08-08 22:45:00</th>\n",
       "      <td>RI-2006-35916</td>\n",
       "      <td>2006-08-08</td>\n",
       "      <td>22:45</td>\n",
       "      <td>Zone K1</td>\n",
       "      <td>NaN</td>\n",
       "      <td>NaN</td>\n",
       "      <td>600</td>\n",
       "      <td>F</td>\n",
       "      <td>1978.0</td>\n",
       "      <td>28.0</td>\n",
       "      <td>...</td>\n",
       "      <td>NaN</td>\n",
       "      <td>NaN</td>\n",
       "      <td>False</td>\n",
       "      <td>Citation</td>\n",
       "      <td>False</td>\n",
       "      <td>0-15 Min</td>\n",
       "      <td>True</td>\n",
       "      <td>False</td>\n",
       "      <td>Zone K1</td>\n",
       "      <td>2006-08-08 22:45</td>\n",
       "    </tr>\n",
       "    <tr>\n",
       "      <th>2006-08-08 22:45:00</th>\n",
       "      <td>RI-2006-35918</td>\n",
       "      <td>2006-08-08</td>\n",
       "      <td>22:45</td>\n",
       "      <td>Zone K3</td>\n",
       "      <td>NaN</td>\n",
       "      <td>NaN</td>\n",
       "      <td>300</td>\n",
       "      <td>F</td>\n",
       "      <td>1971.0</td>\n",
       "      <td>35.0</td>\n",
       "      <td>...</td>\n",
       "      <td>NaN</td>\n",
       "      <td>NaN</td>\n",
       "      <td>False</td>\n",
       "      <td>Citation</td>\n",
       "      <td>False</td>\n",
       "      <td>0-15 Min</td>\n",
       "      <td>True</td>\n",
       "      <td>False</td>\n",
       "      <td>Zone K3</td>\n",
       "      <td>2006-08-08 22:45</td>\n",
       "    </tr>\n",
       "    <tr>\n",
       "      <th>2006-08-08 23:00:00</th>\n",
       "      <td>RI-2006-35920</td>\n",
       "      <td>2006-08-08</td>\n",
       "      <td>23:00</td>\n",
       "      <td>Zone K1</td>\n",
       "      <td>NaN</td>\n",
       "      <td>NaN</td>\n",
       "      <td>600</td>\n",
       "      <td>F</td>\n",
       "      <td>1982.0</td>\n",
       "      <td>24.0</td>\n",
       "      <td>...</td>\n",
       "      <td>NaN</td>\n",
       "      <td>NaN</td>\n",
       "      <td>False</td>\n",
       "      <td>Citation</td>\n",
       "      <td>False</td>\n",
       "      <td>0-15 Min</td>\n",
       "      <td>False</td>\n",
       "      <td>False</td>\n",
       "      <td>Zone K1</td>\n",
       "      <td>2006-08-08 23:00</td>\n",
       "    </tr>\n",
       "  </tbody>\n",
       "</table>\n",
       "<p>13309 rows × 25 columns</p>\n",
       "</div>"
      ],
      "text/plain": [
       "                                id   stop_date stop_time location_raw  \\\n",
       "stop_datetime                                                           \n",
       "2005-02-24 01:20:00  RI-2005-00016  2005-02-24     01:20      Zone X3   \n",
       "2005-03-14 10:00:00  RI-2005-00019  2005-03-14     10:00      Zone K3   \n",
       "2005-03-29 23:20:00  RI-2005-00026  2005-03-29     23:20      Zone K3   \n",
       "2005-06-06 13:20:00  RI-2005-00035  2005-06-06     13:20      Zone X4   \n",
       "2005-06-18 16:30:00  RI-2005-00037  2005-06-18     16:30      Zone X4   \n",
       "...                            ...         ...       ...          ...   \n",
       "2006-08-08 22:20:00  RI-2006-35911  2006-08-08     22:20      Zone K3   \n",
       "2006-08-08 22:25:00  RI-2006-35913  2006-08-08     22:25      Zone K3   \n",
       "2006-08-08 22:45:00  RI-2006-35916  2006-08-08     22:45      Zone K1   \n",
       "2006-08-08 22:45:00  RI-2006-35918  2006-08-08     22:45      Zone K3   \n",
       "2006-08-08 23:00:00  RI-2006-35920  2006-08-08     23:00      Zone K1   \n",
       "\n",
       "                     county_fips  fine_grained_location police_department  \\\n",
       "stop_datetime                                                               \n",
       "2005-02-24 01:20:00          NaN                    NaN               200   \n",
       "2005-03-14 10:00:00          NaN                    NaN               300   \n",
       "2005-03-29 23:20:00          NaN                    NaN               300   \n",
       "2005-06-06 13:20:00          NaN                    NaN               500   \n",
       "2005-06-18 16:30:00          NaN                    NaN               500   \n",
       "...                          ...                    ...               ...   \n",
       "2006-08-08 22:20:00          NaN                    NaN               300   \n",
       "2006-08-08 22:25:00          NaN                    NaN               300   \n",
       "2006-08-08 22:45:00          NaN                    NaN               600   \n",
       "2006-08-08 22:45:00          NaN                    NaN               300   \n",
       "2006-08-08 23:00:00          NaN                    NaN               600   \n",
       "\n",
       "                    driver_gender  driver_age_raw  driver_age  ...  \\\n",
       "stop_datetime                                                  ...   \n",
       "2005-02-24 01:20:00             F          1983.0        22.0  ...   \n",
       "2005-03-14 10:00:00             F          1984.0        21.0  ...   \n",
       "2005-03-29 23:20:00             F          1971.0        34.0  ...   \n",
       "2005-06-06 13:20:00             F          1986.0        19.0  ...   \n",
       "2005-06-18 16:30:00             F          1964.0        41.0  ...   \n",
       "...                           ...             ...         ...  ...   \n",
       "2006-08-08 22:20:00             F          1980.0        26.0  ...   \n",
       "2006-08-08 22:25:00             F          1987.0        19.0  ...   \n",
       "2006-08-08 22:45:00             F          1978.0        28.0  ...   \n",
       "2006-08-08 22:45:00             F          1971.0        35.0  ...   \n",
       "2006-08-08 23:00:00             F          1982.0        24.0  ...   \n",
       "\n",
       "                    search_type_raw search_type contraband_found  \\\n",
       "stop_datetime                                                      \n",
       "2005-02-24 01:20:00             NaN         NaN            False   \n",
       "2005-03-14 10:00:00             NaN         NaN            False   \n",
       "2005-03-29 23:20:00             NaN         NaN            False   \n",
       "2005-06-06 13:20:00             NaN         NaN            False   \n",
       "2005-06-18 16:30:00             NaN         NaN            False   \n",
       "...                             ...         ...              ...   \n",
       "2006-08-08 22:20:00             NaN         NaN            False   \n",
       "2006-08-08 22:25:00             NaN         NaN            False   \n",
       "2006-08-08 22:45:00             NaN         NaN            False   \n",
       "2006-08-08 22:45:00             NaN         NaN            False   \n",
       "2006-08-08 23:00:00             NaN         NaN            False   \n",
       "\n",
       "                      stop_outcome is_arrested stop_duration out_of_state  \\\n",
       "stop_datetime                                                               \n",
       "2005-02-24 01:20:00       Citation       False      0-15 Min         True   \n",
       "2005-03-14 10:00:00       Citation       False      0-15 Min        False   \n",
       "2005-03-29 23:20:00       Citation       False      0-15 Min         True   \n",
       "2005-06-06 13:20:00       Citation       False      0-15 Min        False   \n",
       "2005-06-18 16:30:00  Arrest Driver        True       30+ Min        False   \n",
       "...                            ...         ...           ...          ...   \n",
       "2006-08-08 22:20:00       Citation       False      0-15 Min         True   \n",
       "2006-08-08 22:25:00       Citation       False      0-15 Min         True   \n",
       "2006-08-08 22:45:00       Citation       False      0-15 Min         True   \n",
       "2006-08-08 22:45:00       Citation       False      0-15 Min         True   \n",
       "2006-08-08 23:00:00       Citation       False      0-15 Min        False   \n",
       "\n",
       "                     drugs_related_stop district          combined  \n",
       "stop_datetime                                                       \n",
       "2005-02-24 01:20:00               False  Zone X3  2005-02-24 01:20  \n",
       "2005-03-14 10:00:00               False  Zone K3  2005-03-14 10:00  \n",
       "2005-03-29 23:20:00               False  Zone K3  2005-03-29 23:20  \n",
       "2005-06-06 13:20:00               False  Zone X4  2005-06-06 13:20  \n",
       "2005-06-18 16:30:00               False  Zone X4  2005-06-18 16:30  \n",
       "...                                 ...      ...               ...  \n",
       "2006-08-08 22:20:00               False  Zone K3  2006-08-08 22:20  \n",
       "2006-08-08 22:25:00               False  Zone K3  2006-08-08 22:25  \n",
       "2006-08-08 22:45:00               False  Zone K1  2006-08-08 22:45  \n",
       "2006-08-08 22:45:00               False  Zone K3  2006-08-08 22:45  \n",
       "2006-08-08 23:00:00               False  Zone K1  2006-08-08 23:00  \n",
       "\n",
       "[13309 rows x 25 columns]"
      ]
     },
     "execution_count": 8,
     "metadata": {},
     "output_type": "execute_result"
    }
   ],
   "source": [
    "#Create a DataFrame, female, that only contains rows in which driver_gender is 'F'.\n",
    "#Create a DataFrame, male, that only contains rows in which driver_gender is 'M'\n",
    "\n",
    "df_female = ri[ri[\"driver_gender\"] == \"F\"]\n",
    "df_male = ri[ri[\"driver_gender\"] == \"M\"]\n",
    "df_female\n"
   ]
  },
  {
   "cell_type": "code",
   "execution_count": 9,
   "metadata": {},
   "outputs": [
    {
     "data": {
      "text/plain": [
       "M    34701\n",
       "F    13309\n",
       "Name: driver_gender, dtype: int64"
      ]
     },
     "execution_count": 9,
     "metadata": {},
     "output_type": "execute_result"
    }
   ],
   "source": [
    "ri[\"driver_gender\"].value_counts(dropna=False) # Joseph hoca"
   ]
  },
  {
   "cell_type": "code",
   "execution_count": 10,
   "metadata": {},
   "outputs": [
    {
     "data": {
      "text/html": [
       "<div>\n",
       "<style scoped>\n",
       "    .dataframe tbody tr th:only-of-type {\n",
       "        vertical-align: middle;\n",
       "    }\n",
       "\n",
       "    .dataframe tbody tr th {\n",
       "        vertical-align: top;\n",
       "    }\n",
       "\n",
       "    .dataframe thead th {\n",
       "        text-align: right;\n",
       "    }\n",
       "</style>\n",
       "<table border=\"1\" class=\"dataframe\">\n",
       "  <thead>\n",
       "    <tr style=\"text-align: right;\">\n",
       "      <th></th>\n",
       "      <th>id</th>\n",
       "      <th>stop_date</th>\n",
       "      <th>stop_time</th>\n",
       "      <th>location_raw</th>\n",
       "      <th>county_fips</th>\n",
       "      <th>fine_grained_location</th>\n",
       "      <th>police_department</th>\n",
       "      <th>driver_gender</th>\n",
       "      <th>driver_age_raw</th>\n",
       "      <th>driver_age</th>\n",
       "      <th>...</th>\n",
       "      <th>search_type_raw</th>\n",
       "      <th>search_type</th>\n",
       "      <th>contraband_found</th>\n",
       "      <th>stop_outcome</th>\n",
       "      <th>is_arrested</th>\n",
       "      <th>stop_duration</th>\n",
       "      <th>out_of_state</th>\n",
       "      <th>drugs_related_stop</th>\n",
       "      <th>district</th>\n",
       "      <th>combined</th>\n",
       "    </tr>\n",
       "    <tr>\n",
       "      <th>stop_datetime</th>\n",
       "      <th></th>\n",
       "      <th></th>\n",
       "      <th></th>\n",
       "      <th></th>\n",
       "      <th></th>\n",
       "      <th></th>\n",
       "      <th></th>\n",
       "      <th></th>\n",
       "      <th></th>\n",
       "      <th></th>\n",
       "      <th></th>\n",
       "      <th></th>\n",
       "      <th></th>\n",
       "      <th></th>\n",
       "      <th></th>\n",
       "      <th></th>\n",
       "      <th></th>\n",
       "      <th></th>\n",
       "      <th></th>\n",
       "      <th></th>\n",
       "      <th></th>\n",
       "    </tr>\n",
       "  </thead>\n",
       "  <tbody>\n",
       "    <tr>\n",
       "      <th>2005-01-02 01:55:00</th>\n",
       "      <td>RI-2005-00001</td>\n",
       "      <td>2005-01-02</td>\n",
       "      <td>01:55</td>\n",
       "      <td>Zone K1</td>\n",
       "      <td>NaN</td>\n",
       "      <td>NaN</td>\n",
       "      <td>600</td>\n",
       "      <td>M</td>\n",
       "      <td>1985.0</td>\n",
       "      <td>20.0</td>\n",
       "      <td>...</td>\n",
       "      <td>NaN</td>\n",
       "      <td>NaN</td>\n",
       "      <td>False</td>\n",
       "      <td>Citation</td>\n",
       "      <td>False</td>\n",
       "      <td>0-15 Min</td>\n",
       "      <td>False</td>\n",
       "      <td>False</td>\n",
       "      <td>Zone K1</td>\n",
       "      <td>2005-01-02 01:55</td>\n",
       "    </tr>\n",
       "    <tr>\n",
       "      <th>2005-01-02 20:30:00</th>\n",
       "      <td>RI-2005-00002</td>\n",
       "      <td>2005-01-02</td>\n",
       "      <td>20:30</td>\n",
       "      <td>Zone X4</td>\n",
       "      <td>NaN</td>\n",
       "      <td>NaN</td>\n",
       "      <td>500</td>\n",
       "      <td>M</td>\n",
       "      <td>1987.0</td>\n",
       "      <td>18.0</td>\n",
       "      <td>...</td>\n",
       "      <td>NaN</td>\n",
       "      <td>NaN</td>\n",
       "      <td>False</td>\n",
       "      <td>Citation</td>\n",
       "      <td>False</td>\n",
       "      <td>16-30 Min</td>\n",
       "      <td>False</td>\n",
       "      <td>False</td>\n",
       "      <td>Zone X4</td>\n",
       "      <td>2005-01-02 20:30</td>\n",
       "    </tr>\n",
       "    <tr>\n",
       "      <th>2005-01-04 12:55:00</th>\n",
       "      <td>RI-2005-00004</td>\n",
       "      <td>2005-01-04</td>\n",
       "      <td>12:55</td>\n",
       "      <td>Zone X4</td>\n",
       "      <td>NaN</td>\n",
       "      <td>NaN</td>\n",
       "      <td>500</td>\n",
       "      <td>M</td>\n",
       "      <td>1986.0</td>\n",
       "      <td>19.0</td>\n",
       "      <td>...</td>\n",
       "      <td>NaN</td>\n",
       "      <td>NaN</td>\n",
       "      <td>False</td>\n",
       "      <td>Citation</td>\n",
       "      <td>False</td>\n",
       "      <td>0-15 Min</td>\n",
       "      <td>False</td>\n",
       "      <td>False</td>\n",
       "      <td>Zone X4</td>\n",
       "      <td>2005-01-04 12:55</td>\n",
       "    </tr>\n",
       "    <tr>\n",
       "      <th>2005-01-06 01:30:00</th>\n",
       "      <td>RI-2005-00005</td>\n",
       "      <td>2005-01-06</td>\n",
       "      <td>01:30</td>\n",
       "      <td>Zone X4</td>\n",
       "      <td>NaN</td>\n",
       "      <td>NaN</td>\n",
       "      <td>500</td>\n",
       "      <td>M</td>\n",
       "      <td>1978.0</td>\n",
       "      <td>27.0</td>\n",
       "      <td>...</td>\n",
       "      <td>NaN</td>\n",
       "      <td>NaN</td>\n",
       "      <td>False</td>\n",
       "      <td>Citation</td>\n",
       "      <td>False</td>\n",
       "      <td>0-15 Min</td>\n",
       "      <td>False</td>\n",
       "      <td>False</td>\n",
       "      <td>Zone X4</td>\n",
       "      <td>2005-01-06 01:30</td>\n",
       "    </tr>\n",
       "    <tr>\n",
       "      <th>2005-01-12 08:05:00</th>\n",
       "      <td>RI-2005-00006</td>\n",
       "      <td>2005-01-12</td>\n",
       "      <td>08:05</td>\n",
       "      <td>Zone X1</td>\n",
       "      <td>NaN</td>\n",
       "      <td>NaN</td>\n",
       "      <td>0</td>\n",
       "      <td>M</td>\n",
       "      <td>1973.0</td>\n",
       "      <td>32.0</td>\n",
       "      <td>...</td>\n",
       "      <td>NaN</td>\n",
       "      <td>NaN</td>\n",
       "      <td>False</td>\n",
       "      <td>Citation</td>\n",
       "      <td>False</td>\n",
       "      <td>30+ Min</td>\n",
       "      <td>True</td>\n",
       "      <td>False</td>\n",
       "      <td>Zone X1</td>\n",
       "      <td>2005-01-12 08:05</td>\n",
       "    </tr>\n",
       "    <tr>\n",
       "      <th>...</th>\n",
       "      <td>...</td>\n",
       "      <td>...</td>\n",
       "      <td>...</td>\n",
       "      <td>...</td>\n",
       "      <td>...</td>\n",
       "      <td>...</td>\n",
       "      <td>...</td>\n",
       "      <td>...</td>\n",
       "      <td>...</td>\n",
       "      <td>...</td>\n",
       "      <td>...</td>\n",
       "      <td>...</td>\n",
       "      <td>...</td>\n",
       "      <td>...</td>\n",
       "      <td>...</td>\n",
       "      <td>...</td>\n",
       "      <td>...</td>\n",
       "      <td>...</td>\n",
       "      <td>...</td>\n",
       "      <td>...</td>\n",
       "      <td>...</td>\n",
       "    </tr>\n",
       "    <tr>\n",
       "      <th>2006-08-08 22:30:00</th>\n",
       "      <td>RI-2006-35914</td>\n",
       "      <td>2006-08-08</td>\n",
       "      <td>22:30</td>\n",
       "      <td>Zone K1</td>\n",
       "      <td>NaN</td>\n",
       "      <td>NaN</td>\n",
       "      <td>600</td>\n",
       "      <td>M</td>\n",
       "      <td>1967.0</td>\n",
       "      <td>39.0</td>\n",
       "      <td>...</td>\n",
       "      <td>NaN</td>\n",
       "      <td>NaN</td>\n",
       "      <td>False</td>\n",
       "      <td>Citation</td>\n",
       "      <td>False</td>\n",
       "      <td>0-15 Min</td>\n",
       "      <td>False</td>\n",
       "      <td>False</td>\n",
       "      <td>Zone K1</td>\n",
       "      <td>2006-08-08 22:30</td>\n",
       "    </tr>\n",
       "    <tr>\n",
       "      <th>2006-08-08 22:30:00</th>\n",
       "      <td>RI-2006-35915</td>\n",
       "      <td>2006-08-08</td>\n",
       "      <td>22:30</td>\n",
       "      <td>Zone K2</td>\n",
       "      <td>NaN</td>\n",
       "      <td>NaN</td>\n",
       "      <td>900</td>\n",
       "      <td>M</td>\n",
       "      <td>1982.0</td>\n",
       "      <td>24.0</td>\n",
       "      <td>...</td>\n",
       "      <td>NaN</td>\n",
       "      <td>NaN</td>\n",
       "      <td>False</td>\n",
       "      <td>Citation</td>\n",
       "      <td>False</td>\n",
       "      <td>0-15 Min</td>\n",
       "      <td>False</td>\n",
       "      <td>False</td>\n",
       "      <td>Zone K2</td>\n",
       "      <td>2006-08-08 22:30</td>\n",
       "    </tr>\n",
       "    <tr>\n",
       "      <th>2006-08-08 22:45:00</th>\n",
       "      <td>RI-2006-35917</td>\n",
       "      <td>2006-08-08</td>\n",
       "      <td>22:45</td>\n",
       "      <td>Zone K3</td>\n",
       "      <td>NaN</td>\n",
       "      <td>NaN</td>\n",
       "      <td>300</td>\n",
       "      <td>M</td>\n",
       "      <td>1973.0</td>\n",
       "      <td>33.0</td>\n",
       "      <td>...</td>\n",
       "      <td>NaN</td>\n",
       "      <td>NaN</td>\n",
       "      <td>False</td>\n",
       "      <td>Citation</td>\n",
       "      <td>False</td>\n",
       "      <td>0-15 Min</td>\n",
       "      <td>False</td>\n",
       "      <td>False</td>\n",
       "      <td>Zone K3</td>\n",
       "      <td>2006-08-08 22:45</td>\n",
       "    </tr>\n",
       "    <tr>\n",
       "      <th>2006-08-08 22:53:00</th>\n",
       "      <td>RI-2006-35919</td>\n",
       "      <td>2006-08-08</td>\n",
       "      <td>22:53</td>\n",
       "      <td>Zone X4</td>\n",
       "      <td>NaN</td>\n",
       "      <td>NaN</td>\n",
       "      <td>500</td>\n",
       "      <td>M</td>\n",
       "      <td>1952.0</td>\n",
       "      <td>54.0</td>\n",
       "      <td>...</td>\n",
       "      <td>NaN</td>\n",
       "      <td>NaN</td>\n",
       "      <td>False</td>\n",
       "      <td>Citation</td>\n",
       "      <td>False</td>\n",
       "      <td>16-30 Min</td>\n",
       "      <td>True</td>\n",
       "      <td>False</td>\n",
       "      <td>Zone X4</td>\n",
       "      <td>2006-08-08 22:53</td>\n",
       "    </tr>\n",
       "    <tr>\n",
       "      <th>2006-08-08 23:00:00</th>\n",
       "      <td>RI-2006-35921</td>\n",
       "      <td>2006-08-08</td>\n",
       "      <td>23:00</td>\n",
       "      <td>Zone K3</td>\n",
       "      <td>NaN</td>\n",
       "      <td>NaN</td>\n",
       "      <td>300</td>\n",
       "      <td>M</td>\n",
       "      <td>1965.0</td>\n",
       "      <td>41.0</td>\n",
       "      <td>...</td>\n",
       "      <td>NaN</td>\n",
       "      <td>NaN</td>\n",
       "      <td>False</td>\n",
       "      <td>Citation</td>\n",
       "      <td>False</td>\n",
       "      <td>16-30 Min</td>\n",
       "      <td>False</td>\n",
       "      <td>False</td>\n",
       "      <td>Zone K3</td>\n",
       "      <td>2006-08-08 23:00</td>\n",
       "    </tr>\n",
       "  </tbody>\n",
       "</table>\n",
       "<p>34701 rows × 25 columns</p>\n",
       "</div>"
      ],
      "text/plain": [
       "                                id   stop_date stop_time location_raw  \\\n",
       "stop_datetime                                                           \n",
       "2005-01-02 01:55:00  RI-2005-00001  2005-01-02     01:55      Zone K1   \n",
       "2005-01-02 20:30:00  RI-2005-00002  2005-01-02     20:30      Zone X4   \n",
       "2005-01-04 12:55:00  RI-2005-00004  2005-01-04     12:55      Zone X4   \n",
       "2005-01-06 01:30:00  RI-2005-00005  2005-01-06     01:30      Zone X4   \n",
       "2005-01-12 08:05:00  RI-2005-00006  2005-01-12     08:05      Zone X1   \n",
       "...                            ...         ...       ...          ...   \n",
       "2006-08-08 22:30:00  RI-2006-35914  2006-08-08     22:30      Zone K1   \n",
       "2006-08-08 22:30:00  RI-2006-35915  2006-08-08     22:30      Zone K2   \n",
       "2006-08-08 22:45:00  RI-2006-35917  2006-08-08     22:45      Zone K3   \n",
       "2006-08-08 22:53:00  RI-2006-35919  2006-08-08     22:53      Zone X4   \n",
       "2006-08-08 23:00:00  RI-2006-35921  2006-08-08     23:00      Zone K3   \n",
       "\n",
       "                     county_fips  fine_grained_location police_department  \\\n",
       "stop_datetime                                                               \n",
       "2005-01-02 01:55:00          NaN                    NaN               600   \n",
       "2005-01-02 20:30:00          NaN                    NaN               500   \n",
       "2005-01-04 12:55:00          NaN                    NaN               500   \n",
       "2005-01-06 01:30:00          NaN                    NaN               500   \n",
       "2005-01-12 08:05:00          NaN                    NaN                 0   \n",
       "...                          ...                    ...               ...   \n",
       "2006-08-08 22:30:00          NaN                    NaN               600   \n",
       "2006-08-08 22:30:00          NaN                    NaN               900   \n",
       "2006-08-08 22:45:00          NaN                    NaN               300   \n",
       "2006-08-08 22:53:00          NaN                    NaN               500   \n",
       "2006-08-08 23:00:00          NaN                    NaN               300   \n",
       "\n",
       "                    driver_gender  driver_age_raw  driver_age  ...  \\\n",
       "stop_datetime                                                  ...   \n",
       "2005-01-02 01:55:00             M          1985.0        20.0  ...   \n",
       "2005-01-02 20:30:00             M          1987.0        18.0  ...   \n",
       "2005-01-04 12:55:00             M          1986.0        19.0  ...   \n",
       "2005-01-06 01:30:00             M          1978.0        27.0  ...   \n",
       "2005-01-12 08:05:00             M          1973.0        32.0  ...   \n",
       "...                           ...             ...         ...  ...   \n",
       "2006-08-08 22:30:00             M          1967.0        39.0  ...   \n",
       "2006-08-08 22:30:00             M          1982.0        24.0  ...   \n",
       "2006-08-08 22:45:00             M          1973.0        33.0  ...   \n",
       "2006-08-08 22:53:00             M          1952.0        54.0  ...   \n",
       "2006-08-08 23:00:00             M          1965.0        41.0  ...   \n",
       "\n",
       "                    search_type_raw search_type contraband_found stop_outcome  \\\n",
       "stop_datetime                                                                   \n",
       "2005-01-02 01:55:00             NaN         NaN            False     Citation   \n",
       "2005-01-02 20:30:00             NaN         NaN            False     Citation   \n",
       "2005-01-04 12:55:00             NaN         NaN            False     Citation   \n",
       "2005-01-06 01:30:00             NaN         NaN            False     Citation   \n",
       "2005-01-12 08:05:00             NaN         NaN            False     Citation   \n",
       "...                             ...         ...              ...          ...   \n",
       "2006-08-08 22:30:00             NaN         NaN            False     Citation   \n",
       "2006-08-08 22:30:00             NaN         NaN            False     Citation   \n",
       "2006-08-08 22:45:00             NaN         NaN            False     Citation   \n",
       "2006-08-08 22:53:00             NaN         NaN            False     Citation   \n",
       "2006-08-08 23:00:00             NaN         NaN            False     Citation   \n",
       "\n",
       "                    is_arrested stop_duration out_of_state  \\\n",
       "stop_datetime                                                \n",
       "2005-01-02 01:55:00       False      0-15 Min        False   \n",
       "2005-01-02 20:30:00       False     16-30 Min        False   \n",
       "2005-01-04 12:55:00       False      0-15 Min        False   \n",
       "2005-01-06 01:30:00       False      0-15 Min        False   \n",
       "2005-01-12 08:05:00       False       30+ Min         True   \n",
       "...                         ...           ...          ...   \n",
       "2006-08-08 22:30:00       False      0-15 Min        False   \n",
       "2006-08-08 22:30:00       False      0-15 Min        False   \n",
       "2006-08-08 22:45:00       False      0-15 Min        False   \n",
       "2006-08-08 22:53:00       False     16-30 Min         True   \n",
       "2006-08-08 23:00:00       False     16-30 Min        False   \n",
       "\n",
       "                     drugs_related_stop district          combined  \n",
       "stop_datetime                                                       \n",
       "2005-01-02 01:55:00               False  Zone K1  2005-01-02 01:55  \n",
       "2005-01-02 20:30:00               False  Zone X4  2005-01-02 20:30  \n",
       "2005-01-04 12:55:00               False  Zone X4  2005-01-04 12:55  \n",
       "2005-01-06 01:30:00               False  Zone X4  2005-01-06 01:30  \n",
       "2005-01-12 08:05:00               False  Zone X1  2005-01-12 08:05  \n",
       "...                                 ...      ...               ...  \n",
       "2006-08-08 22:30:00               False  Zone K1  2006-08-08 22:30  \n",
       "2006-08-08 22:30:00               False  Zone K2  2006-08-08 22:30  \n",
       "2006-08-08 22:45:00               False  Zone K3  2006-08-08 22:45  \n",
       "2006-08-08 22:53:00               False  Zone X4  2006-08-08 22:53  \n",
       "2006-08-08 23:00:00               False  Zone K3  2006-08-08 23:00  \n",
       "\n",
       "[34701 rows x 25 columns]"
      ]
     },
     "execution_count": 10,
     "metadata": {},
     "output_type": "execute_result"
    }
   ],
   "source": [
    "df_male"
   ]
  },
  {
   "cell_type": "code",
   "execution_count": 11,
   "metadata": {},
   "outputs": [
    {
     "data": {
      "text/plain": [
       "Speeding               10796\n",
       "Moving violation        1318\n",
       "Equipment                607\n",
       "Registration/plates      367\n",
       "Other                    221\n",
       "Name: violation, dtype: int64"
      ]
     },
     "execution_count": 11,
     "metadata": {},
     "output_type": "execute_result"
    }
   ],
   "source": [
    "df_female[\"violation\"].value_counts()"
   ]
  },
  {
   "cell_type": "code",
   "execution_count": 12,
   "metadata": {},
   "outputs": [
    {
     "data": {
      "text/plain": [
       "Speeding               81.118040\n",
       "Moving violation        9.903073\n",
       "Equipment               4.560824\n",
       "Registration/plates     2.757532\n",
       "Other                   1.660530\n",
       "Name: violation, dtype: float64"
      ]
     },
     "execution_count": 12,
     "metadata": {},
     "output_type": "execute_result"
    }
   ],
   "source": [
    "df_female[\"violation\"].value_counts() / df_female[\"violation\"].value_counts().sum() * 100 "
   ]
  },
  {
   "cell_type": "code",
   "execution_count": 13,
   "metadata": {},
   "outputs": [
    {
     "data": {
      "text/plain": [
       "Speeding               0.811180\n",
       "Moving violation       0.099031\n",
       "Equipment              0.045608\n",
       "Registration/plates    0.027575\n",
       "Other                  0.016605\n",
       "Name: violation, dtype: float64"
      ]
     },
     "execution_count": 13,
     "metadata": {},
     "output_type": "execute_result"
    }
   ],
   "source": [
    "df_female[\"violation\"].value_counts(normalize = True) #joseph hoca"
   ]
  },
  {
   "cell_type": "code",
   "execution_count": 14,
   "metadata": {},
   "outputs": [
    {
     "data": {
      "text/plain": [
       "Speeding               72.951788\n",
       "Moving violation       14.996686\n",
       "Equipment               6.959454\n",
       "Registration/plates     3.158410\n",
       "Other                   1.933662\n",
       "Name: violation, dtype: float64"
      ]
     },
     "execution_count": 14,
     "metadata": {},
     "output_type": "execute_result"
    }
   ],
   "source": [
    "df_male[\"violation\"].value_counts() / df_male[\"violation\"].value_counts().sum() * 100 "
   ]
  },
  {
   "cell_type": "code",
   "execution_count": 15,
   "metadata": {},
   "outputs": [
    {
     "data": {
      "text/plain": [
       "Speeding               0.729518\n",
       "Moving violation       0.149967\n",
       "Equipment              0.069595\n",
       "Registration/plates    0.031584\n",
       "Other                  0.019337\n",
       "Name: violation, dtype: float64"
      ]
     },
     "execution_count": 15,
     "metadata": {},
     "output_type": "execute_result"
    }
   ],
   "source": [
    "df_male[\"violation\"].value_counts(normalize = True) # Joseph hoca"
   ]
  },
  {
   "cell_type": "code",
   "execution_count": 16,
   "metadata": {},
   "outputs": [
    {
     "data": {
      "text/plain": [
       "driver_gender  violation          \n",
       "F              Speeding               0.811180\n",
       "               Moving violation       0.099031\n",
       "               Equipment              0.045608\n",
       "               Registration/plates    0.027575\n",
       "               Other                  0.016605\n",
       "M              Speeding               0.729518\n",
       "               Moving violation       0.149967\n",
       "               Equipment              0.069595\n",
       "               Registration/plates    0.031584\n",
       "               Other                  0.019337\n",
       "Name: violation, dtype: float64"
      ]
     },
     "execution_count": 16,
     "metadata": {},
     "output_type": "execute_result"
    }
   ],
   "source": [
    "ri.groupby([\"driver_gender\"])[\"violation\"].value_counts(normalize=True, dropna=False)"
   ]
  },
  {
   "cell_type": "markdown",
   "metadata": {},
   "source": [
    "***"
   ]
  },
  {
   "cell_type": "markdown",
   "metadata": {},
   "source": [
    "## Comparing speeding outcomes by gender"
   ]
  },
  {
   "cell_type": "markdown",
   "metadata": {},
   "source": [
    "When a driver is pulled over for speeding, many people believe that gender has an impact on whether the driver will receive a ticket or a warning. Can you find evidence of this in the dataset?\n",
    "\n",
    "First, you'll create two ``DataFrames`` of drivers who were stopped for ``speeding``: one containing ***females*** and the other containing ***males***.\n",
    "\n",
    "Then, for each **gender**, you'll use the ``stop_outcome`` column to calculate what percentage of stops resulted in a ``\"Citation\"`` (meaning a ticket) versus a ``\"Warning\"``."
   ]
  },
  {
   "cell_type": "markdown",
   "metadata": {},
   "source": [
    "**INSTRUCTIONS**\n",
    "\n",
    "*   Create a ``DataFrame``, ``female_and_speeding``, that only includes female drivers who were stopped for speeding.\n",
    "*   Create a ``DataFrame``, ``male_and_speeding``, that only includes male drivers who were stopped for speeding.\n",
    "*   Count the **stop outcomes** for the female drivers and express them as proportions.\n",
    "*   Count the **stop outcomes** for the male drivers and express them as proportions."
   ]
  },
  {
   "cell_type": "code",
   "execution_count": 17,
   "metadata": {},
   "outputs": [
    {
     "data": {
      "text/plain": [
       "(48010, 25)"
      ]
     },
     "execution_count": 17,
     "metadata": {},
     "output_type": "execute_result"
    }
   ],
   "source": [
    "ri.shape"
   ]
  },
  {
   "cell_type": "code",
   "execution_count": 18,
   "metadata": {
    "scrolled": true
   },
   "outputs": [],
   "source": [
    "df_female_and_speeding = ri[ri[\"driver_gender\"]==\"F\"]\n",
    "df_female_and_speeding = df_female_and_speeding[df_female_and_speeding[\"violation\"]==\"Speeding\"]"
   ]
  },
  {
   "cell_type": "code",
   "execution_count": 19,
   "metadata": {},
   "outputs": [],
   "source": [
    "#df_female_and_speeding = ri[(ri[\"driver_gender\"]==\"F\") & (ri[\"violation\"]==\"Speeding\")]"
   ]
  },
  {
   "cell_type": "code",
   "execution_count": 20,
   "metadata": {},
   "outputs": [
    {
     "data": {
      "text/plain": [
       "(10796, 25)"
      ]
     },
     "execution_count": 20,
     "metadata": {},
     "output_type": "execute_result"
    }
   ],
   "source": [
    "df_female_and_speeding.shape"
   ]
  },
  {
   "cell_type": "code",
   "execution_count": 21,
   "metadata": {},
   "outputs": [
    {
     "data": {
      "text/plain": [
       "Index(['id', 'stop_date', 'stop_time', 'location_raw', 'county_fips',\n",
       "       'fine_grained_location', 'police_department', 'driver_gender',\n",
       "       'driver_age_raw', 'driver_age', 'driver_race_raw', 'driver_race',\n",
       "       'violation_raw', 'violation', 'search_conducted', 'search_type_raw',\n",
       "       'search_type', 'contraband_found', 'stop_outcome', 'is_arrested',\n",
       "       'stop_duration', 'out_of_state', 'drugs_related_stop', 'district',\n",
       "       'combined'],\n",
       "      dtype='object')"
      ]
     },
     "execution_count": 21,
     "metadata": {},
     "output_type": "execute_result"
    }
   ],
   "source": [
    "df_female_and_speeding[df_female_and_speeding[\"violation\"]==\"Speeding\"].columns"
   ]
  },
  {
   "cell_type": "code",
   "execution_count": 22,
   "metadata": {
    "scrolled": true
   },
   "outputs": [],
   "source": [
    "df_male_and_speeding = ri[ri[\"driver_gender\"]==\"M\"]\n",
    "df_male_and_speeding = df_male_and_speeding[df_male_and_speeding[\"violation\"]==\"Speeding\"]"
   ]
  },
  {
   "cell_type": "code",
   "execution_count": 23,
   "metadata": {},
   "outputs": [
    {
     "data": {
      "text/plain": [
       "Citation            97.341608\n",
       "Warning              1.296777\n",
       "Arrest Driver        0.741015\n",
       "N/D                  0.361245\n",
       "Arrest Passenger     0.231567\n",
       "No Action            0.027788\n",
       "Name: stop_outcome, dtype: float64"
      ]
     },
     "execution_count": 23,
     "metadata": {},
     "output_type": "execute_result"
    }
   ],
   "source": [
    "df_female_and_speeding[\"stop_outcome\"].value_counts() / df_female_and_speeding[\"stop_outcome\"].value_counts().sum() * 100 "
   ]
  },
  {
   "cell_type": "code",
   "execution_count": 24,
   "metadata": {},
   "outputs": [
    {
     "data": {
      "text/plain": [
       "Citation            95.729804\n",
       "Arrest Driver        2.622951\n",
       "Warning              1.066561\n",
       "N/D                  0.339720\n",
       "Arrest Passenger     0.201462\n",
       "No Action            0.039502\n",
       "Name: stop_outcome, dtype: float64"
      ]
     },
     "execution_count": 24,
     "metadata": {},
     "output_type": "execute_result"
    }
   ],
   "source": [
    "df_male_and_speeding[\"stop_outcome\"].value_counts() / df_male_and_speeding[\"stop_outcome\"].value_counts().sum() * 100 "
   ]
  },
  {
   "cell_type": "markdown",
   "metadata": {},
   "source": [
    "***"
   ]
  },
  {
   "cell_type": "markdown",
   "metadata": {},
   "source": [
    "## Calculating the search rate"
   ]
  },
  {
   "cell_type": "markdown",
   "metadata": {},
   "source": [
    "During a traffic stop, the police officer sometimes conducts a search of the vehicle. In this exercise, you'll calculate the percentage of all stops that result in a vehicle search, also known as the **search rate**."
   ]
  },
  {
   "cell_type": "markdown",
   "metadata": {},
   "source": [
    "**INSTRUCTIONS**\n",
    "\n",
    "*   Check the data type of ``search_conducted`` to confirm that it's a ``Boolean Series``.\n",
    "*   Calculate the search rate by counting the ``Series`` values and expressing them as proportions.\n",
    "*   Calculate the search rate by taking the mean of the ``Series``. (It should match the proportion of ``True`` values calculated above.)"
   ]
  },
  {
   "cell_type": "code",
   "execution_count": 25,
   "metadata": {},
   "outputs": [
    {
     "data": {
      "text/plain": [
       "search_conducted    object\n",
       "dtype: object"
      ]
     },
     "execution_count": 25,
     "metadata": {},
     "output_type": "execute_result"
    }
   ],
   "source": [
    "ri[[\"search_conducted\"]].dtypes"
   ]
  },
  {
   "cell_type": "code",
   "execution_count": 50,
   "metadata": {},
   "outputs": [],
   "source": [
    "ri = ri.astype ({\"search_conducted\": \"bool\"})"
   ]
  },
  {
   "cell_type": "code",
   "execution_count": 27,
   "metadata": {},
   "outputs": [
    {
     "data": {
      "text/plain": [
       "search_conducted    bool\n",
       "dtype: object"
      ]
     },
     "execution_count": 27,
     "metadata": {},
     "output_type": "execute_result"
    }
   ],
   "source": [
    "ri[[\"search_conducted\"]].dtypes"
   ]
  },
  {
   "cell_type": "code",
   "execution_count": 28,
   "metadata": {},
   "outputs": [
    {
     "data": {
      "text/plain": [
       "False    95.809206\n",
       "True      4.190794\n",
       "Name: search_conducted, dtype: float64"
      ]
     },
     "execution_count": 28,
     "metadata": {},
     "output_type": "execute_result"
    }
   ],
   "source": [
    "ri[\"search_conducted\"].value_counts() / ri[\"search_conducted\"].value_counts().sum() * 100"
   ]
  },
  {
   "cell_type": "code",
   "execution_count": 29,
   "metadata": {},
   "outputs": [
    {
     "data": {
      "text/plain": [
       "4.19079358466986"
      ]
     },
     "execution_count": 29,
     "metadata": {},
     "output_type": "execute_result"
    }
   ],
   "source": [
    "ri[\"search_conducted\"].mean() * 100"
   ]
  },
  {
   "cell_type": "markdown",
   "metadata": {},
   "source": [
    "***"
   ]
  },
  {
   "cell_type": "markdown",
   "metadata": {},
   "source": [
    "## Comparing search rates by gender"
   ]
  },
  {
   "cell_type": "markdown",
   "metadata": {},
   "source": [
    "You'll compare the rates at which **female** and **male** drivers are searched during a traffic stop. Remember that the vehicle search rate across all stops is about **3.8%**.\n",
    "\n",
    "First, you'll filter the ``DataFrame`` by gender and calculate the search rate for each group separately. Then, you'll perform the same calculation for both genders at once using a ``.groupby()``."
   ]
  },
  {
   "cell_type": "markdown",
   "metadata": {},
   "source": [
    "**INSTRUCTIONS 1/3**\n",
    "\n",
    "*   Filter the ``DataFrame`` to only include **female** drivers, and then calculate the search rate by taking the mean of ``search_conducted``."
   ]
  },
  {
   "cell_type": "code",
   "execution_count": 30,
   "metadata": {},
   "outputs": [
    {
     "data": {
      "text/html": [
       "<div>\n",
       "<style scoped>\n",
       "    .dataframe tbody tr th:only-of-type {\n",
       "        vertical-align: middle;\n",
       "    }\n",
       "\n",
       "    .dataframe tbody tr th {\n",
       "        vertical-align: top;\n",
       "    }\n",
       "\n",
       "    .dataframe thead th {\n",
       "        text-align: right;\n",
       "    }\n",
       "</style>\n",
       "<table border=\"1\" class=\"dataframe\">\n",
       "  <thead>\n",
       "    <tr style=\"text-align: right;\">\n",
       "      <th></th>\n",
       "      <th>id</th>\n",
       "      <th>stop_date</th>\n",
       "      <th>stop_time</th>\n",
       "      <th>location_raw</th>\n",
       "      <th>county_fips</th>\n",
       "      <th>fine_grained_location</th>\n",
       "      <th>police_department</th>\n",
       "      <th>driver_gender</th>\n",
       "      <th>driver_age_raw</th>\n",
       "      <th>driver_age</th>\n",
       "      <th>...</th>\n",
       "      <th>search_type_raw</th>\n",
       "      <th>search_type</th>\n",
       "      <th>contraband_found</th>\n",
       "      <th>stop_outcome</th>\n",
       "      <th>is_arrested</th>\n",
       "      <th>stop_duration</th>\n",
       "      <th>out_of_state</th>\n",
       "      <th>drugs_related_stop</th>\n",
       "      <th>district</th>\n",
       "      <th>combined</th>\n",
       "    </tr>\n",
       "    <tr>\n",
       "      <th>stop_datetime</th>\n",
       "      <th></th>\n",
       "      <th></th>\n",
       "      <th></th>\n",
       "      <th></th>\n",
       "      <th></th>\n",
       "      <th></th>\n",
       "      <th></th>\n",
       "      <th></th>\n",
       "      <th></th>\n",
       "      <th></th>\n",
       "      <th></th>\n",
       "      <th></th>\n",
       "      <th></th>\n",
       "      <th></th>\n",
       "      <th></th>\n",
       "      <th></th>\n",
       "      <th></th>\n",
       "      <th></th>\n",
       "      <th></th>\n",
       "      <th></th>\n",
       "      <th></th>\n",
       "    </tr>\n",
       "  </thead>\n",
       "  <tbody>\n",
       "    <tr>\n",
       "      <th>2005-02-24 01:20:00</th>\n",
       "      <td>RI-2005-00016</td>\n",
       "      <td>2005-02-24</td>\n",
       "      <td>01:20</td>\n",
       "      <td>Zone X3</td>\n",
       "      <td>NaN</td>\n",
       "      <td>NaN</td>\n",
       "      <td>200</td>\n",
       "      <td>F</td>\n",
       "      <td>1983.0</td>\n",
       "      <td>22.0</td>\n",
       "      <td>...</td>\n",
       "      <td>NaN</td>\n",
       "      <td>NaN</td>\n",
       "      <td>False</td>\n",
       "      <td>Citation</td>\n",
       "      <td>False</td>\n",
       "      <td>0-15 Min</td>\n",
       "      <td>True</td>\n",
       "      <td>False</td>\n",
       "      <td>Zone X3</td>\n",
       "      <td>2005-02-24 01:20</td>\n",
       "    </tr>\n",
       "    <tr>\n",
       "      <th>2005-03-14 10:00:00</th>\n",
       "      <td>RI-2005-00019</td>\n",
       "      <td>2005-03-14</td>\n",
       "      <td>10:00</td>\n",
       "      <td>Zone K3</td>\n",
       "      <td>NaN</td>\n",
       "      <td>NaN</td>\n",
       "      <td>300</td>\n",
       "      <td>F</td>\n",
       "      <td>1984.0</td>\n",
       "      <td>21.0</td>\n",
       "      <td>...</td>\n",
       "      <td>NaN</td>\n",
       "      <td>NaN</td>\n",
       "      <td>False</td>\n",
       "      <td>Citation</td>\n",
       "      <td>False</td>\n",
       "      <td>0-15 Min</td>\n",
       "      <td>False</td>\n",
       "      <td>False</td>\n",
       "      <td>Zone K3</td>\n",
       "      <td>2005-03-14 10:00</td>\n",
       "    </tr>\n",
       "    <tr>\n",
       "      <th>2005-03-29 23:20:00</th>\n",
       "      <td>RI-2005-00026</td>\n",
       "      <td>2005-03-29</td>\n",
       "      <td>23:20</td>\n",
       "      <td>Zone K3</td>\n",
       "      <td>NaN</td>\n",
       "      <td>NaN</td>\n",
       "      <td>300</td>\n",
       "      <td>F</td>\n",
       "      <td>1971.0</td>\n",
       "      <td>34.0</td>\n",
       "      <td>...</td>\n",
       "      <td>NaN</td>\n",
       "      <td>NaN</td>\n",
       "      <td>False</td>\n",
       "      <td>Citation</td>\n",
       "      <td>False</td>\n",
       "      <td>0-15 Min</td>\n",
       "      <td>True</td>\n",
       "      <td>False</td>\n",
       "      <td>Zone K3</td>\n",
       "      <td>2005-03-29 23:20</td>\n",
       "    </tr>\n",
       "    <tr>\n",
       "      <th>2005-06-06 13:20:00</th>\n",
       "      <td>RI-2005-00035</td>\n",
       "      <td>2005-06-06</td>\n",
       "      <td>13:20</td>\n",
       "      <td>Zone X4</td>\n",
       "      <td>NaN</td>\n",
       "      <td>NaN</td>\n",
       "      <td>500</td>\n",
       "      <td>F</td>\n",
       "      <td>1986.0</td>\n",
       "      <td>19.0</td>\n",
       "      <td>...</td>\n",
       "      <td>NaN</td>\n",
       "      <td>NaN</td>\n",
       "      <td>False</td>\n",
       "      <td>Citation</td>\n",
       "      <td>False</td>\n",
       "      <td>0-15 Min</td>\n",
       "      <td>False</td>\n",
       "      <td>False</td>\n",
       "      <td>Zone X4</td>\n",
       "      <td>2005-06-06 13:20</td>\n",
       "    </tr>\n",
       "    <tr>\n",
       "      <th>2005-06-18 16:30:00</th>\n",
       "      <td>RI-2005-00037</td>\n",
       "      <td>2005-06-18</td>\n",
       "      <td>16:30</td>\n",
       "      <td>Zone X4</td>\n",
       "      <td>NaN</td>\n",
       "      <td>NaN</td>\n",
       "      <td>500</td>\n",
       "      <td>F</td>\n",
       "      <td>1964.0</td>\n",
       "      <td>41.0</td>\n",
       "      <td>...</td>\n",
       "      <td>NaN</td>\n",
       "      <td>NaN</td>\n",
       "      <td>False</td>\n",
       "      <td>Arrest Driver</td>\n",
       "      <td>True</td>\n",
       "      <td>30+ Min</td>\n",
       "      <td>False</td>\n",
       "      <td>False</td>\n",
       "      <td>Zone X4</td>\n",
       "      <td>2005-06-18 16:30</td>\n",
       "    </tr>\n",
       "    <tr>\n",
       "      <th>...</th>\n",
       "      <td>...</td>\n",
       "      <td>...</td>\n",
       "      <td>...</td>\n",
       "      <td>...</td>\n",
       "      <td>...</td>\n",
       "      <td>...</td>\n",
       "      <td>...</td>\n",
       "      <td>...</td>\n",
       "      <td>...</td>\n",
       "      <td>...</td>\n",
       "      <td>...</td>\n",
       "      <td>...</td>\n",
       "      <td>...</td>\n",
       "      <td>...</td>\n",
       "      <td>...</td>\n",
       "      <td>...</td>\n",
       "      <td>...</td>\n",
       "      <td>...</td>\n",
       "      <td>...</td>\n",
       "      <td>...</td>\n",
       "      <td>...</td>\n",
       "    </tr>\n",
       "    <tr>\n",
       "      <th>2006-08-08 22:20:00</th>\n",
       "      <td>RI-2006-35911</td>\n",
       "      <td>2006-08-08</td>\n",
       "      <td>22:20</td>\n",
       "      <td>Zone K3</td>\n",
       "      <td>NaN</td>\n",
       "      <td>NaN</td>\n",
       "      <td>300</td>\n",
       "      <td>F</td>\n",
       "      <td>1980.0</td>\n",
       "      <td>26.0</td>\n",
       "      <td>...</td>\n",
       "      <td>NaN</td>\n",
       "      <td>NaN</td>\n",
       "      <td>False</td>\n",
       "      <td>Citation</td>\n",
       "      <td>False</td>\n",
       "      <td>0-15 Min</td>\n",
       "      <td>True</td>\n",
       "      <td>False</td>\n",
       "      <td>Zone K3</td>\n",
       "      <td>2006-08-08 22:20</td>\n",
       "    </tr>\n",
       "    <tr>\n",
       "      <th>2006-08-08 22:25:00</th>\n",
       "      <td>RI-2006-35913</td>\n",
       "      <td>2006-08-08</td>\n",
       "      <td>22:25</td>\n",
       "      <td>Zone K3</td>\n",
       "      <td>NaN</td>\n",
       "      <td>NaN</td>\n",
       "      <td>300</td>\n",
       "      <td>F</td>\n",
       "      <td>1987.0</td>\n",
       "      <td>19.0</td>\n",
       "      <td>...</td>\n",
       "      <td>NaN</td>\n",
       "      <td>NaN</td>\n",
       "      <td>False</td>\n",
       "      <td>Citation</td>\n",
       "      <td>False</td>\n",
       "      <td>0-15 Min</td>\n",
       "      <td>True</td>\n",
       "      <td>False</td>\n",
       "      <td>Zone K3</td>\n",
       "      <td>2006-08-08 22:25</td>\n",
       "    </tr>\n",
       "    <tr>\n",
       "      <th>2006-08-08 22:45:00</th>\n",
       "      <td>RI-2006-35916</td>\n",
       "      <td>2006-08-08</td>\n",
       "      <td>22:45</td>\n",
       "      <td>Zone K1</td>\n",
       "      <td>NaN</td>\n",
       "      <td>NaN</td>\n",
       "      <td>600</td>\n",
       "      <td>F</td>\n",
       "      <td>1978.0</td>\n",
       "      <td>28.0</td>\n",
       "      <td>...</td>\n",
       "      <td>NaN</td>\n",
       "      <td>NaN</td>\n",
       "      <td>False</td>\n",
       "      <td>Citation</td>\n",
       "      <td>False</td>\n",
       "      <td>0-15 Min</td>\n",
       "      <td>True</td>\n",
       "      <td>False</td>\n",
       "      <td>Zone K1</td>\n",
       "      <td>2006-08-08 22:45</td>\n",
       "    </tr>\n",
       "    <tr>\n",
       "      <th>2006-08-08 22:45:00</th>\n",
       "      <td>RI-2006-35918</td>\n",
       "      <td>2006-08-08</td>\n",
       "      <td>22:45</td>\n",
       "      <td>Zone K3</td>\n",
       "      <td>NaN</td>\n",
       "      <td>NaN</td>\n",
       "      <td>300</td>\n",
       "      <td>F</td>\n",
       "      <td>1971.0</td>\n",
       "      <td>35.0</td>\n",
       "      <td>...</td>\n",
       "      <td>NaN</td>\n",
       "      <td>NaN</td>\n",
       "      <td>False</td>\n",
       "      <td>Citation</td>\n",
       "      <td>False</td>\n",
       "      <td>0-15 Min</td>\n",
       "      <td>True</td>\n",
       "      <td>False</td>\n",
       "      <td>Zone K3</td>\n",
       "      <td>2006-08-08 22:45</td>\n",
       "    </tr>\n",
       "    <tr>\n",
       "      <th>2006-08-08 23:00:00</th>\n",
       "      <td>RI-2006-35920</td>\n",
       "      <td>2006-08-08</td>\n",
       "      <td>23:00</td>\n",
       "      <td>Zone K1</td>\n",
       "      <td>NaN</td>\n",
       "      <td>NaN</td>\n",
       "      <td>600</td>\n",
       "      <td>F</td>\n",
       "      <td>1982.0</td>\n",
       "      <td>24.0</td>\n",
       "      <td>...</td>\n",
       "      <td>NaN</td>\n",
       "      <td>NaN</td>\n",
       "      <td>False</td>\n",
       "      <td>Citation</td>\n",
       "      <td>False</td>\n",
       "      <td>0-15 Min</td>\n",
       "      <td>False</td>\n",
       "      <td>False</td>\n",
       "      <td>Zone K1</td>\n",
       "      <td>2006-08-08 23:00</td>\n",
       "    </tr>\n",
       "  </tbody>\n",
       "</table>\n",
       "<p>13309 rows × 25 columns</p>\n",
       "</div>"
      ],
      "text/plain": [
       "                                id   stop_date stop_time location_raw  \\\n",
       "stop_datetime                                                           \n",
       "2005-02-24 01:20:00  RI-2005-00016  2005-02-24     01:20      Zone X3   \n",
       "2005-03-14 10:00:00  RI-2005-00019  2005-03-14     10:00      Zone K3   \n",
       "2005-03-29 23:20:00  RI-2005-00026  2005-03-29     23:20      Zone K3   \n",
       "2005-06-06 13:20:00  RI-2005-00035  2005-06-06     13:20      Zone X4   \n",
       "2005-06-18 16:30:00  RI-2005-00037  2005-06-18     16:30      Zone X4   \n",
       "...                            ...         ...       ...          ...   \n",
       "2006-08-08 22:20:00  RI-2006-35911  2006-08-08     22:20      Zone K3   \n",
       "2006-08-08 22:25:00  RI-2006-35913  2006-08-08     22:25      Zone K3   \n",
       "2006-08-08 22:45:00  RI-2006-35916  2006-08-08     22:45      Zone K1   \n",
       "2006-08-08 22:45:00  RI-2006-35918  2006-08-08     22:45      Zone K3   \n",
       "2006-08-08 23:00:00  RI-2006-35920  2006-08-08     23:00      Zone K1   \n",
       "\n",
       "                     county_fips  fine_grained_location police_department  \\\n",
       "stop_datetime                                                               \n",
       "2005-02-24 01:20:00          NaN                    NaN               200   \n",
       "2005-03-14 10:00:00          NaN                    NaN               300   \n",
       "2005-03-29 23:20:00          NaN                    NaN               300   \n",
       "2005-06-06 13:20:00          NaN                    NaN               500   \n",
       "2005-06-18 16:30:00          NaN                    NaN               500   \n",
       "...                          ...                    ...               ...   \n",
       "2006-08-08 22:20:00          NaN                    NaN               300   \n",
       "2006-08-08 22:25:00          NaN                    NaN               300   \n",
       "2006-08-08 22:45:00          NaN                    NaN               600   \n",
       "2006-08-08 22:45:00          NaN                    NaN               300   \n",
       "2006-08-08 23:00:00          NaN                    NaN               600   \n",
       "\n",
       "                    driver_gender  driver_age_raw  driver_age  ...  \\\n",
       "stop_datetime                                                  ...   \n",
       "2005-02-24 01:20:00             F          1983.0        22.0  ...   \n",
       "2005-03-14 10:00:00             F          1984.0        21.0  ...   \n",
       "2005-03-29 23:20:00             F          1971.0        34.0  ...   \n",
       "2005-06-06 13:20:00             F          1986.0        19.0  ...   \n",
       "2005-06-18 16:30:00             F          1964.0        41.0  ...   \n",
       "...                           ...             ...         ...  ...   \n",
       "2006-08-08 22:20:00             F          1980.0        26.0  ...   \n",
       "2006-08-08 22:25:00             F          1987.0        19.0  ...   \n",
       "2006-08-08 22:45:00             F          1978.0        28.0  ...   \n",
       "2006-08-08 22:45:00             F          1971.0        35.0  ...   \n",
       "2006-08-08 23:00:00             F          1982.0        24.0  ...   \n",
       "\n",
       "                    search_type_raw search_type contraband_found  \\\n",
       "stop_datetime                                                      \n",
       "2005-02-24 01:20:00             NaN         NaN            False   \n",
       "2005-03-14 10:00:00             NaN         NaN            False   \n",
       "2005-03-29 23:20:00             NaN         NaN            False   \n",
       "2005-06-06 13:20:00             NaN         NaN            False   \n",
       "2005-06-18 16:30:00             NaN         NaN            False   \n",
       "...                             ...         ...              ...   \n",
       "2006-08-08 22:20:00             NaN         NaN            False   \n",
       "2006-08-08 22:25:00             NaN         NaN            False   \n",
       "2006-08-08 22:45:00             NaN         NaN            False   \n",
       "2006-08-08 22:45:00             NaN         NaN            False   \n",
       "2006-08-08 23:00:00             NaN         NaN            False   \n",
       "\n",
       "                      stop_outcome is_arrested stop_duration out_of_state  \\\n",
       "stop_datetime                                                               \n",
       "2005-02-24 01:20:00       Citation       False      0-15 Min         True   \n",
       "2005-03-14 10:00:00       Citation       False      0-15 Min        False   \n",
       "2005-03-29 23:20:00       Citation       False      0-15 Min         True   \n",
       "2005-06-06 13:20:00       Citation       False      0-15 Min        False   \n",
       "2005-06-18 16:30:00  Arrest Driver        True       30+ Min        False   \n",
       "...                            ...         ...           ...          ...   \n",
       "2006-08-08 22:20:00       Citation       False      0-15 Min         True   \n",
       "2006-08-08 22:25:00       Citation       False      0-15 Min         True   \n",
       "2006-08-08 22:45:00       Citation       False      0-15 Min         True   \n",
       "2006-08-08 22:45:00       Citation       False      0-15 Min         True   \n",
       "2006-08-08 23:00:00       Citation       False      0-15 Min        False   \n",
       "\n",
       "                     drugs_related_stop district          combined  \n",
       "stop_datetime                                                       \n",
       "2005-02-24 01:20:00               False  Zone X3  2005-02-24 01:20  \n",
       "2005-03-14 10:00:00               False  Zone K3  2005-03-14 10:00  \n",
       "2005-03-29 23:20:00               False  Zone K3  2005-03-29 23:20  \n",
       "2005-06-06 13:20:00               False  Zone X4  2005-06-06 13:20  \n",
       "2005-06-18 16:30:00               False  Zone X4  2005-06-18 16:30  \n",
       "...                                 ...      ...               ...  \n",
       "2006-08-08 22:20:00               False  Zone K3  2006-08-08 22:20  \n",
       "2006-08-08 22:25:00               False  Zone K3  2006-08-08 22:25  \n",
       "2006-08-08 22:45:00               False  Zone K1  2006-08-08 22:45  \n",
       "2006-08-08 22:45:00               False  Zone K3  2006-08-08 22:45  \n",
       "2006-08-08 23:00:00               False  Zone K1  2006-08-08 23:00  \n",
       "\n",
       "[13309 rows x 25 columns]"
      ]
     },
     "execution_count": 30,
     "metadata": {},
     "output_type": "execute_result"
    }
   ],
   "source": [
    "df_female"
   ]
  },
  {
   "cell_type": "code",
   "execution_count": 31,
   "metadata": {},
   "outputs": [
    {
     "data": {
      "text/plain": [
       "1.7807498685100307"
      ]
     },
     "execution_count": 31,
     "metadata": {},
     "output_type": "execute_result"
    }
   ],
   "source": [
    "df_female[\"search_conducted\"].mean() * 100"
   ]
  },
  {
   "cell_type": "markdown",
   "metadata": {},
   "source": [
    "**INSTRUCTIONS 2/3**\n",
    "\n",
    "*   Filter the ``DataFrame`` to only include **male** drivers, and then repeat the search rate calculation."
   ]
  },
  {
   "cell_type": "code",
   "execution_count": 32,
   "metadata": {},
   "outputs": [
    {
     "data": {
      "text/plain": [
       "5.115126365234431"
      ]
     },
     "execution_count": 32,
     "metadata": {},
     "output_type": "execute_result"
    }
   ],
   "source": [
    "df_male[\"search_conducted\"].mean() * 100"
   ]
  },
  {
   "cell_type": "markdown",
   "metadata": {},
   "source": [
    "**INSTRUCTIONS 3/3**\n",
    "\n",
    "*   Group by driver gender to calculate the search rate for both groups simultaneously. (It should match the previous results.)"
   ]
  },
  {
   "cell_type": "code",
   "execution_count": 53,
   "metadata": {},
   "outputs": [
    {
     "data": {
      "text/html": [
       "<div>\n",
       "<style scoped>\n",
       "    .dataframe tbody tr th:only-of-type {\n",
       "        vertical-align: middle;\n",
       "    }\n",
       "\n",
       "    .dataframe tbody tr th {\n",
       "        vertical-align: top;\n",
       "    }\n",
       "\n",
       "    .dataframe thead th {\n",
       "        text-align: right;\n",
       "    }\n",
       "</style>\n",
       "<table border=\"1\" class=\"dataframe\">\n",
       "  <thead>\n",
       "    <tr style=\"text-align: right;\">\n",
       "      <th></th>\n",
       "      <th>search_conducted</th>\n",
       "    </tr>\n",
       "    <tr>\n",
       "      <th>driver_gender</th>\n",
       "      <th></th>\n",
       "    </tr>\n",
       "  </thead>\n",
       "  <tbody>\n",
       "    <tr>\n",
       "      <th>F</th>\n",
       "      <td>1.780750</td>\n",
       "    </tr>\n",
       "    <tr>\n",
       "      <th>M</th>\n",
       "      <td>5.115126</td>\n",
       "    </tr>\n",
       "  </tbody>\n",
       "</table>\n",
       "</div>"
      ],
      "text/plain": [
       "               search_conducted\n",
       "driver_gender                  \n",
       "F                      1.780750\n",
       "M                      5.115126"
      ]
     },
     "execution_count": 53,
     "metadata": {},
     "output_type": "execute_result"
    }
   ],
   "source": [
    "ri.groupby([\"driver_gender\"])[[\"search_conducted\"]].mean()*100"
   ]
  },
  {
   "cell_type": "code",
   "execution_count": 33,
   "metadata": {
    "scrolled": true
   },
   "outputs": [
    {
     "data": {
      "text/html": [
       "<div>\n",
       "<style scoped>\n",
       "    .dataframe tbody tr th:only-of-type {\n",
       "        vertical-align: middle;\n",
       "    }\n",
       "\n",
       "    .dataframe tbody tr th {\n",
       "        vertical-align: top;\n",
       "    }\n",
       "\n",
       "    .dataframe thead th {\n",
       "        text-align: right;\n",
       "    }\n",
       "</style>\n",
       "<table border=\"1\" class=\"dataframe\">\n",
       "  <thead>\n",
       "    <tr style=\"text-align: right;\">\n",
       "      <th></th>\n",
       "      <th>search_conducted</th>\n",
       "    </tr>\n",
       "    <tr>\n",
       "      <th>driver_gender</th>\n",
       "      <th></th>\n",
       "    </tr>\n",
       "  </thead>\n",
       "  <tbody>\n",
       "    <tr>\n",
       "      <th>F</th>\n",
       "      <td>1.780750</td>\n",
       "    </tr>\n",
       "    <tr>\n",
       "      <th>M</th>\n",
       "      <td>5.115126</td>\n",
       "    </tr>\n",
       "  </tbody>\n",
       "</table>\n",
       "</div>"
      ],
      "text/plain": [
       "               search_conducted\n",
       "driver_gender                  \n",
       "F                      1.780750\n",
       "M                      5.115126"
      ]
     },
     "execution_count": 33,
     "metadata": {},
     "output_type": "execute_result"
    }
   ],
   "source": [
    "ri.groupby([\"driver_gender\"]).mean()[[\"search_conducted\"]]*100"
   ]
  },
  {
   "cell_type": "code",
   "execution_count": 34,
   "metadata": {},
   "outputs": [
    {
     "data": {
      "text/html": [
       "<div>\n",
       "<style scoped>\n",
       "    .dataframe tbody tr th:only-of-type {\n",
       "        vertical-align: middle;\n",
       "    }\n",
       "\n",
       "    .dataframe tbody tr th {\n",
       "        vertical-align: top;\n",
       "    }\n",
       "\n",
       "    .dataframe thead th {\n",
       "        text-align: right;\n",
       "    }\n",
       "</style>\n",
       "<table border=\"1\" class=\"dataframe\">\n",
       "  <thead>\n",
       "    <tr style=\"text-align: right;\">\n",
       "      <th></th>\n",
       "      <th>search_conducted</th>\n",
       "    </tr>\n",
       "    <tr>\n",
       "      <th>driver_gender</th>\n",
       "      <th></th>\n",
       "    </tr>\n",
       "  </thead>\n",
       "  <tbody>\n",
       "    <tr>\n",
       "      <th>F</th>\n",
       "      <td>1.780750</td>\n",
       "    </tr>\n",
       "    <tr>\n",
       "      <th>M</th>\n",
       "      <td>5.115126</td>\n",
       "    </tr>\n",
       "  </tbody>\n",
       "</table>\n",
       "</div>"
      ],
      "text/plain": [
       "               search_conducted\n",
       "driver_gender                  \n",
       "F                      1.780750\n",
       "M                      5.115126"
      ]
     },
     "execution_count": 34,
     "metadata": {},
     "output_type": "execute_result"
    }
   ],
   "source": [
    "ri.groupby([\"driver_gender\"]).mean()[[\"search_conducted\"]]*100"
   ]
  },
  {
   "cell_type": "markdown",
   "metadata": {},
   "source": [
    "***"
   ]
  },
  {
   "cell_type": "markdown",
   "metadata": {},
   "source": [
    "## Adding a second factor to the analysis"
   ]
  },
  {
   "cell_type": "markdown",
   "metadata": {},
   "source": [
    "Even though the search rate for males is much higher than for females, it's possible that the difference is mostly due to a second factor.\n",
    "\n",
    "For example, you might hypothesize that the search rate varies by violation type, and the difference in search rate between males and females is because they tend to commit different violations.\n",
    "\n",
    "You can test this hypothesis by examining the search rate for each combination of gender and violation. If the hypothesis was true, you would find that males and females are searched at about the same rate for each violation. Find out below if that's the case!"
   ]
  },
  {
   "cell_type": "markdown",
   "metadata": {},
   "source": [
    "**INSTRUCTIONS 1/2**\n",
    "\n",
    "*   Use a ``.groupby()`` to calculate the search rate for each combination of gender and violation. Are males and females searched at about the same rate for each violation?"
   ]
  },
  {
   "cell_type": "code",
   "execution_count": 35,
   "metadata": {},
   "outputs": [
    {
     "data": {
      "text/html": [
       "<div>\n",
       "<style scoped>\n",
       "    .dataframe tbody tr th:only-of-type {\n",
       "        vertical-align: middle;\n",
       "    }\n",
       "\n",
       "    .dataframe tbody tr th {\n",
       "        vertical-align: top;\n",
       "    }\n",
       "\n",
       "    .dataframe thead th {\n",
       "        text-align: right;\n",
       "    }\n",
       "</style>\n",
       "<table border=\"1\" class=\"dataframe\">\n",
       "  <thead>\n",
       "    <tr style=\"text-align: right;\">\n",
       "      <th></th>\n",
       "      <th></th>\n",
       "      <th>search_conducted</th>\n",
       "    </tr>\n",
       "    <tr>\n",
       "      <th>driver_gender</th>\n",
       "      <th>violation</th>\n",
       "      <th></th>\n",
       "    </tr>\n",
       "  </thead>\n",
       "  <tbody>\n",
       "    <tr>\n",
       "      <th rowspan=\"5\" valign=\"top\">F</th>\n",
       "      <th>Equipment</th>\n",
       "      <td>7.907743</td>\n",
       "    </tr>\n",
       "    <tr>\n",
       "      <th>Moving violation</th>\n",
       "      <td>4.779970</td>\n",
       "    </tr>\n",
       "    <tr>\n",
       "      <th>Other</th>\n",
       "      <td>4.524887</td>\n",
       "    </tr>\n",
       "    <tr>\n",
       "      <th>Registration/plates</th>\n",
       "      <td>11.444142</td>\n",
       "    </tr>\n",
       "    <tr>\n",
       "      <th>Speeding</th>\n",
       "      <td>0.685439</td>\n",
       "    </tr>\n",
       "    <tr>\n",
       "      <th rowspan=\"5\" valign=\"top\">M</th>\n",
       "      <th>Equipment</th>\n",
       "      <td>12.339545</td>\n",
       "    </tr>\n",
       "    <tr>\n",
       "      <th>Moving violation</th>\n",
       "      <td>8.877786</td>\n",
       "    </tr>\n",
       "    <tr>\n",
       "      <th>Other</th>\n",
       "      <td>15.499255</td>\n",
       "    </tr>\n",
       "    <tr>\n",
       "      <th>Registration/plates</th>\n",
       "      <td>17.153285</td>\n",
       "    </tr>\n",
       "    <tr>\n",
       "      <th>Speeding</th>\n",
       "      <td>2.856014</td>\n",
       "    </tr>\n",
       "  </tbody>\n",
       "</table>\n",
       "</div>"
      ],
      "text/plain": [
       "                                   search_conducted\n",
       "driver_gender violation                            \n",
       "F             Equipment                    7.907743\n",
       "              Moving violation             4.779970\n",
       "              Other                        4.524887\n",
       "              Registration/plates         11.444142\n",
       "              Speeding                     0.685439\n",
       "M             Equipment                   12.339545\n",
       "              Moving violation             8.877786\n",
       "              Other                       15.499255\n",
       "              Registration/plates         17.153285\n",
       "              Speeding                     2.856014"
      ]
     },
     "execution_count": 35,
     "metadata": {},
     "output_type": "execute_result"
    }
   ],
   "source": [
    "ri.groupby(['driver_gender', 'violation'])[[\"search_conducted\"]].mean()*100"
   ]
  },
  {
   "cell_type": "markdown",
   "metadata": {},
   "source": [
    "**INSTRUCTIONS 2/2**\n",
    "\n",
    "*   Reverse the ordering to group by violation before gender. The results may be easier to compare when presented this way."
   ]
  },
  {
   "cell_type": "code",
   "execution_count": 36,
   "metadata": {},
   "outputs": [
    {
     "data": {
      "text/html": [
       "<div>\n",
       "<style scoped>\n",
       "    .dataframe tbody tr th:only-of-type {\n",
       "        vertical-align: middle;\n",
       "    }\n",
       "\n",
       "    .dataframe tbody tr th {\n",
       "        vertical-align: top;\n",
       "    }\n",
       "\n",
       "    .dataframe thead th {\n",
       "        text-align: right;\n",
       "    }\n",
       "</style>\n",
       "<table border=\"1\" class=\"dataframe\">\n",
       "  <thead>\n",
       "    <tr style=\"text-align: right;\">\n",
       "      <th></th>\n",
       "      <th></th>\n",
       "      <th>search_conducted</th>\n",
       "    </tr>\n",
       "    <tr>\n",
       "      <th>violation</th>\n",
       "      <th>driver_gender</th>\n",
       "      <th></th>\n",
       "    </tr>\n",
       "  </thead>\n",
       "  <tbody>\n",
       "    <tr>\n",
       "      <th rowspan=\"2\" valign=\"top\">Equipment</th>\n",
       "      <th>F</th>\n",
       "      <td>7.907743</td>\n",
       "    </tr>\n",
       "    <tr>\n",
       "      <th>M</th>\n",
       "      <td>12.339545</td>\n",
       "    </tr>\n",
       "    <tr>\n",
       "      <th rowspan=\"2\" valign=\"top\">Moving violation</th>\n",
       "      <th>F</th>\n",
       "      <td>4.779970</td>\n",
       "    </tr>\n",
       "    <tr>\n",
       "      <th>M</th>\n",
       "      <td>8.877786</td>\n",
       "    </tr>\n",
       "    <tr>\n",
       "      <th rowspan=\"2\" valign=\"top\">Other</th>\n",
       "      <th>F</th>\n",
       "      <td>4.524887</td>\n",
       "    </tr>\n",
       "    <tr>\n",
       "      <th>M</th>\n",
       "      <td>15.499255</td>\n",
       "    </tr>\n",
       "    <tr>\n",
       "      <th rowspan=\"2\" valign=\"top\">Registration/plates</th>\n",
       "      <th>F</th>\n",
       "      <td>11.444142</td>\n",
       "    </tr>\n",
       "    <tr>\n",
       "      <th>M</th>\n",
       "      <td>17.153285</td>\n",
       "    </tr>\n",
       "    <tr>\n",
       "      <th rowspan=\"2\" valign=\"top\">Speeding</th>\n",
       "      <th>F</th>\n",
       "      <td>0.685439</td>\n",
       "    </tr>\n",
       "    <tr>\n",
       "      <th>M</th>\n",
       "      <td>2.856014</td>\n",
       "    </tr>\n",
       "  </tbody>\n",
       "</table>\n",
       "</div>"
      ],
      "text/plain": [
       "                                   search_conducted\n",
       "violation           driver_gender                  \n",
       "Equipment           F                      7.907743\n",
       "                    M                     12.339545\n",
       "Moving violation    F                      4.779970\n",
       "                    M                      8.877786\n",
       "Other               F                      4.524887\n",
       "                    M                     15.499255\n",
       "Registration/plates F                     11.444142\n",
       "                    M                     17.153285\n",
       "Speeding            F                      0.685439\n",
       "                    M                      2.856014"
      ]
     },
     "execution_count": 36,
     "metadata": {},
     "output_type": "execute_result"
    }
   ],
   "source": [
    "ri.groupby(['violation', 'driver_gender'])[[\"search_conducted\"]].mean()*100"
   ]
  },
  {
   "cell_type": "markdown",
   "metadata": {},
   "source": [
    "***"
   ]
  },
  {
   "cell_type": "markdown",
   "metadata": {},
   "source": [
    "## Counting protective frisks"
   ]
  },
  {
   "cell_type": "markdown",
   "metadata": {},
   "source": [
    "During a vehicle search, the police officer may pat down the driver to check if they have a weapon. This is known as a ``\"protective frisk.\"``\n",
    "\n",
    "You'll first check to see how many times \"Protective Frisk\" was the only search type. Then, you'll use a string method to locate all instances in which the driver was frisked."
   ]
  },
  {
   "cell_type": "markdown",
   "metadata": {},
   "source": [
    "**INSTRUCTIONS**\n",
    "\n",
    "*   Count the ``search_type`` values to see how many times ``\"Protective Frisk\"`` was the only search type.\n",
    "*   Create a new column, frisk, that is ``True`` if ``search_type`` contains the string ``\"Protective Frisk\"`` and ``False`` otherwise.\n",
    "*   Check the data type of frisk to confirm that it's a ``Boolean Series``.\n",
    "*   Take the sum of frisk to count the total number of frisks."
   ]
  },
  {
   "cell_type": "code",
   "execution_count": 37,
   "metadata": {
    "scrolled": true
   },
   "outputs": [
    {
     "data": {
      "text/plain": [
       "Incident to Arrest                                          958\n",
       "Probable Cause                                              244\n",
       "Protective Frisk                                            204\n",
       "Inventory                                                   117\n",
       "Incident to Arrest,Inventory                                116\n",
       "Incident to Arrest,Probable Cause                            76\n",
       "Incident to Arrest,Protective Frisk                          63\n",
       "Reasonable Suspicion                                         43\n",
       "Probable Cause,Protective Frisk                              36\n",
       "Incident to Arrest,Inventory,Protective Frisk                33\n",
       "Inventory,Protective Frisk                                   23\n",
       "Incident to Arrest,Probable Cause,Protective Frisk           20\n",
       "Incident to Arrest,Inventory,Probable Cause                  19\n",
       "Protective Frisk,Reasonable Suspicion                        16\n",
       "Inventory,Probable Cause                                     16\n",
       "Probable Cause,Reasonable Suspicion                          12\n",
       "Incident to Arrest,Reasonable Suspicion                       5\n",
       "Probable Cause,Protective Frisk,Reasonable Suspicion          5\n",
       "Inventory,Probable Cause,Protective Frisk                     2\n",
       "Incident to Arrest,Probable Cause,Reasonable Suspicion        1\n",
       "Inventory,Reasonable Suspicion                                1\n",
       "Incident to Arrest,Protective Frisk,Reasonable Suspicion      1\n",
       "Incident to Arrest,Inventory,Reasonable Suspicion             1\n",
       "Name: search_type, dtype: int64"
      ]
     },
     "execution_count": 37,
     "metadata": {},
     "output_type": "execute_result"
    }
   ],
   "source": [
    "ri.search_type.value_counts()"
   ]
  },
  {
   "cell_type": "code",
   "execution_count": 38,
   "metadata": {},
   "outputs": [
    {
     "data": {
      "text/plain": [
       "Protective Frisk    204\n",
       "Name: search_type, dtype: int64"
      ]
     },
     "execution_count": 38,
     "metadata": {},
     "output_type": "execute_result"
    }
   ],
   "source": [
    "ri[ri[\"search_type\"]==\"Protective Frisk\"][\"search_type\"].value_counts()"
   ]
  },
  {
   "cell_type": "code",
   "execution_count": 39,
   "metadata": {},
   "outputs": [
    {
     "data": {
      "text/html": [
       "<div>\n",
       "<style scoped>\n",
       "    .dataframe tbody tr th:only-of-type {\n",
       "        vertical-align: middle;\n",
       "    }\n",
       "\n",
       "    .dataframe tbody tr th {\n",
       "        vertical-align: top;\n",
       "    }\n",
       "\n",
       "    .dataframe thead th {\n",
       "        text-align: right;\n",
       "    }\n",
       "</style>\n",
       "<table border=\"1\" class=\"dataframe\">\n",
       "  <thead>\n",
       "    <tr style=\"text-align: right;\">\n",
       "      <th></th>\n",
       "      <th>search_type</th>\n",
       "      <th>frisk</th>\n",
       "    </tr>\n",
       "    <tr>\n",
       "      <th>stop_datetime</th>\n",
       "      <th></th>\n",
       "      <th></th>\n",
       "    </tr>\n",
       "  </thead>\n",
       "  <tbody>\n",
       "    <tr>\n",
       "      <th>2005-10-06 21:35:00</th>\n",
       "      <td>Protective Frisk</td>\n",
       "      <td>True</td>\n",
       "    </tr>\n",
       "    <tr>\n",
       "      <th>2005-10-07 11:33:00</th>\n",
       "      <td>Protective Frisk</td>\n",
       "      <td>True</td>\n",
       "    </tr>\n",
       "    <tr>\n",
       "      <th>2005-10-09 19:20:00</th>\n",
       "      <td>Protective Frisk</td>\n",
       "      <td>True</td>\n",
       "    </tr>\n",
       "    <tr>\n",
       "      <th>2005-10-10 07:00:00</th>\n",
       "      <td>Protective Frisk</td>\n",
       "      <td>True</td>\n",
       "    </tr>\n",
       "    <tr>\n",
       "      <th>2005-10-12 20:30:00</th>\n",
       "      <td>Protective Frisk</td>\n",
       "      <td>True</td>\n",
       "    </tr>\n",
       "    <tr>\n",
       "      <th>...</th>\n",
       "      <td>...</td>\n",
       "      <td>...</td>\n",
       "    </tr>\n",
       "    <tr>\n",
       "      <th>2006-08-03 02:15:00</th>\n",
       "      <td>Protective Frisk</td>\n",
       "      <td>True</td>\n",
       "    </tr>\n",
       "    <tr>\n",
       "      <th>2006-08-04 00:43:00</th>\n",
       "      <td>Protective Frisk</td>\n",
       "      <td>True</td>\n",
       "    </tr>\n",
       "    <tr>\n",
       "      <th>2006-08-04 10:05:00</th>\n",
       "      <td>Protective Frisk</td>\n",
       "      <td>True</td>\n",
       "    </tr>\n",
       "    <tr>\n",
       "      <th>2006-08-05 07:24:00</th>\n",
       "      <td>Protective Frisk</td>\n",
       "      <td>True</td>\n",
       "    </tr>\n",
       "    <tr>\n",
       "      <th>2006-08-06 02:45:00</th>\n",
       "      <td>Protective Frisk</td>\n",
       "      <td>True</td>\n",
       "    </tr>\n",
       "  </tbody>\n",
       "</table>\n",
       "<p>204 rows × 2 columns</p>\n",
       "</div>"
      ],
      "text/plain": [
       "                          search_type frisk\n",
       "stop_datetime                              \n",
       "2005-10-06 21:35:00  Protective Frisk  True\n",
       "2005-10-07 11:33:00  Protective Frisk  True\n",
       "2005-10-09 19:20:00  Protective Frisk  True\n",
       "2005-10-10 07:00:00  Protective Frisk  True\n",
       "2005-10-12 20:30:00  Protective Frisk  True\n",
       "...                               ...   ...\n",
       "2006-08-03 02:15:00  Protective Frisk  True\n",
       "2006-08-04 00:43:00  Protective Frisk  True\n",
       "2006-08-04 10:05:00  Protective Frisk  True\n",
       "2006-08-05 07:24:00  Protective Frisk  True\n",
       "2006-08-06 02:45:00  Protective Frisk  True\n",
       "\n",
       "[204 rows x 2 columns]"
      ]
     },
     "execution_count": 39,
     "metadata": {},
     "output_type": "execute_result"
    }
   ],
   "source": [
    "ri.loc[ri[\"search_type\"]==\"Protective Frisk\", \"frisk\"] = True\n",
    "ri.loc[ri[\"search_type\"]!=\"Protective Frisk\", \"frisk\"] = False\n",
    "a = ri[[\"search_type\", \"frisk\"]].dropna()\n",
    "a[a[\"search_type\" ] == \"Protective Frisk\"]"
   ]
  },
  {
   "cell_type": "code",
   "execution_count": 56,
   "metadata": {},
   "outputs": [],
   "source": [
    "#ri.loc[ri[\"search_type\"]==\"Protective Frisk\", \"frisk\"] = True\n",
    "#ri.loc[ri[\"search_type\"]!=\"Protective Frisk\", \"frisk\"] = False\n",
    "\n",
    "ri['frisk'] = ri.search_type.str.contains('Protective Frisk', na = False)"
   ]
  },
  {
   "cell_type": "code",
   "execution_count": 58,
   "metadata": {},
   "outputs": [
    {
     "data": {
      "text/html": [
       "<div>\n",
       "<style scoped>\n",
       "    .dataframe tbody tr th:only-of-type {\n",
       "        vertical-align: middle;\n",
       "    }\n",
       "\n",
       "    .dataframe tbody tr th {\n",
       "        vertical-align: top;\n",
       "    }\n",
       "\n",
       "    .dataframe thead th {\n",
       "        text-align: right;\n",
       "    }\n",
       "</style>\n",
       "<table border=\"1\" class=\"dataframe\">\n",
       "  <thead>\n",
       "    <tr style=\"text-align: right;\">\n",
       "      <th></th>\n",
       "      <th>id</th>\n",
       "      <th>stop_date</th>\n",
       "      <th>stop_time</th>\n",
       "      <th>location_raw</th>\n",
       "      <th>county_fips</th>\n",
       "      <th>fine_grained_location</th>\n",
       "      <th>police_department</th>\n",
       "      <th>driver_gender</th>\n",
       "      <th>driver_age_raw</th>\n",
       "      <th>driver_age</th>\n",
       "      <th>...</th>\n",
       "      <th>search_type</th>\n",
       "      <th>contraband_found</th>\n",
       "      <th>stop_outcome</th>\n",
       "      <th>is_arrested</th>\n",
       "      <th>stop_duration</th>\n",
       "      <th>out_of_state</th>\n",
       "      <th>drugs_related_stop</th>\n",
       "      <th>district</th>\n",
       "      <th>combined</th>\n",
       "      <th>frisk</th>\n",
       "    </tr>\n",
       "    <tr>\n",
       "      <th>stop_datetime</th>\n",
       "      <th></th>\n",
       "      <th></th>\n",
       "      <th></th>\n",
       "      <th></th>\n",
       "      <th></th>\n",
       "      <th></th>\n",
       "      <th></th>\n",
       "      <th></th>\n",
       "      <th></th>\n",
       "      <th></th>\n",
       "      <th></th>\n",
       "      <th></th>\n",
       "      <th></th>\n",
       "      <th></th>\n",
       "      <th></th>\n",
       "      <th></th>\n",
       "      <th></th>\n",
       "      <th></th>\n",
       "      <th></th>\n",
       "      <th></th>\n",
       "      <th></th>\n",
       "    </tr>\n",
       "  </thead>\n",
       "  <tbody>\n",
       "    <tr>\n",
       "      <th>2006-08-08 22:45:00</th>\n",
       "      <td>RI-2006-35917</td>\n",
       "      <td>2006-08-08</td>\n",
       "      <td>22:45</td>\n",
       "      <td>Zone K3</td>\n",
       "      <td>NaN</td>\n",
       "      <td>NaN</td>\n",
       "      <td>300</td>\n",
       "      <td>M</td>\n",
       "      <td>1973.0</td>\n",
       "      <td>33.0</td>\n",
       "      <td>...</td>\n",
       "      <td>NaN</td>\n",
       "      <td>False</td>\n",
       "      <td>Citation</td>\n",
       "      <td>False</td>\n",
       "      <td>0-15 Min</td>\n",
       "      <td>False</td>\n",
       "      <td>False</td>\n",
       "      <td>Zone K3</td>\n",
       "      <td>2006-08-08 22:45</td>\n",
       "      <td>False</td>\n",
       "    </tr>\n",
       "    <tr>\n",
       "      <th>2006-08-08 22:45:00</th>\n",
       "      <td>RI-2006-35918</td>\n",
       "      <td>2006-08-08</td>\n",
       "      <td>22:45</td>\n",
       "      <td>Zone K3</td>\n",
       "      <td>NaN</td>\n",
       "      <td>NaN</td>\n",
       "      <td>300</td>\n",
       "      <td>F</td>\n",
       "      <td>1971.0</td>\n",
       "      <td>35.0</td>\n",
       "      <td>...</td>\n",
       "      <td>NaN</td>\n",
       "      <td>False</td>\n",
       "      <td>Citation</td>\n",
       "      <td>False</td>\n",
       "      <td>0-15 Min</td>\n",
       "      <td>True</td>\n",
       "      <td>False</td>\n",
       "      <td>Zone K3</td>\n",
       "      <td>2006-08-08 22:45</td>\n",
       "      <td>False</td>\n",
       "    </tr>\n",
       "    <tr>\n",
       "      <th>2006-08-08 22:53:00</th>\n",
       "      <td>RI-2006-35919</td>\n",
       "      <td>2006-08-08</td>\n",
       "      <td>22:53</td>\n",
       "      <td>Zone X4</td>\n",
       "      <td>NaN</td>\n",
       "      <td>NaN</td>\n",
       "      <td>500</td>\n",
       "      <td>M</td>\n",
       "      <td>1952.0</td>\n",
       "      <td>54.0</td>\n",
       "      <td>...</td>\n",
       "      <td>NaN</td>\n",
       "      <td>False</td>\n",
       "      <td>Citation</td>\n",
       "      <td>False</td>\n",
       "      <td>16-30 Min</td>\n",
       "      <td>True</td>\n",
       "      <td>False</td>\n",
       "      <td>Zone X4</td>\n",
       "      <td>2006-08-08 22:53</td>\n",
       "      <td>False</td>\n",
       "    </tr>\n",
       "    <tr>\n",
       "      <th>2006-08-08 23:00:00</th>\n",
       "      <td>RI-2006-35920</td>\n",
       "      <td>2006-08-08</td>\n",
       "      <td>23:00</td>\n",
       "      <td>Zone K1</td>\n",
       "      <td>NaN</td>\n",
       "      <td>NaN</td>\n",
       "      <td>600</td>\n",
       "      <td>F</td>\n",
       "      <td>1982.0</td>\n",
       "      <td>24.0</td>\n",
       "      <td>...</td>\n",
       "      <td>NaN</td>\n",
       "      <td>False</td>\n",
       "      <td>Citation</td>\n",
       "      <td>False</td>\n",
       "      <td>0-15 Min</td>\n",
       "      <td>False</td>\n",
       "      <td>False</td>\n",
       "      <td>Zone K1</td>\n",
       "      <td>2006-08-08 23:00</td>\n",
       "      <td>False</td>\n",
       "    </tr>\n",
       "    <tr>\n",
       "      <th>2006-08-08 23:00:00</th>\n",
       "      <td>RI-2006-35921</td>\n",
       "      <td>2006-08-08</td>\n",
       "      <td>23:00</td>\n",
       "      <td>Zone K3</td>\n",
       "      <td>NaN</td>\n",
       "      <td>NaN</td>\n",
       "      <td>300</td>\n",
       "      <td>M</td>\n",
       "      <td>1965.0</td>\n",
       "      <td>41.0</td>\n",
       "      <td>...</td>\n",
       "      <td>NaN</td>\n",
       "      <td>False</td>\n",
       "      <td>Citation</td>\n",
       "      <td>False</td>\n",
       "      <td>16-30 Min</td>\n",
       "      <td>False</td>\n",
       "      <td>False</td>\n",
       "      <td>Zone K3</td>\n",
       "      <td>2006-08-08 23:00</td>\n",
       "      <td>False</td>\n",
       "    </tr>\n",
       "  </tbody>\n",
       "</table>\n",
       "<p>5 rows × 26 columns</p>\n",
       "</div>"
      ],
      "text/plain": [
       "                                id   stop_date stop_time location_raw  \\\n",
       "stop_datetime                                                           \n",
       "2006-08-08 22:45:00  RI-2006-35917  2006-08-08     22:45      Zone K3   \n",
       "2006-08-08 22:45:00  RI-2006-35918  2006-08-08     22:45      Zone K3   \n",
       "2006-08-08 22:53:00  RI-2006-35919  2006-08-08     22:53      Zone X4   \n",
       "2006-08-08 23:00:00  RI-2006-35920  2006-08-08     23:00      Zone K1   \n",
       "2006-08-08 23:00:00  RI-2006-35921  2006-08-08     23:00      Zone K3   \n",
       "\n",
       "                     county_fips  fine_grained_location police_department  \\\n",
       "stop_datetime                                                               \n",
       "2006-08-08 22:45:00          NaN                    NaN               300   \n",
       "2006-08-08 22:45:00          NaN                    NaN               300   \n",
       "2006-08-08 22:53:00          NaN                    NaN               500   \n",
       "2006-08-08 23:00:00          NaN                    NaN               600   \n",
       "2006-08-08 23:00:00          NaN                    NaN               300   \n",
       "\n",
       "                    driver_gender  driver_age_raw  driver_age  ...  \\\n",
       "stop_datetime                                                  ...   \n",
       "2006-08-08 22:45:00             M          1973.0        33.0  ...   \n",
       "2006-08-08 22:45:00             F          1971.0        35.0  ...   \n",
       "2006-08-08 22:53:00             M          1952.0        54.0  ...   \n",
       "2006-08-08 23:00:00             F          1982.0        24.0  ...   \n",
       "2006-08-08 23:00:00             M          1965.0        41.0  ...   \n",
       "\n",
       "                    search_type contraband_found stop_outcome is_arrested  \\\n",
       "stop_datetime                                                               \n",
       "2006-08-08 22:45:00         NaN            False     Citation       False   \n",
       "2006-08-08 22:45:00         NaN            False     Citation       False   \n",
       "2006-08-08 22:53:00         NaN            False     Citation       False   \n",
       "2006-08-08 23:00:00         NaN            False     Citation       False   \n",
       "2006-08-08 23:00:00         NaN            False     Citation       False   \n",
       "\n",
       "                     stop_duration out_of_state drugs_related_stop  district  \\\n",
       "stop_datetime                                                                  \n",
       "2006-08-08 22:45:00       0-15 Min        False              False   Zone K3   \n",
       "2006-08-08 22:45:00       0-15 Min         True              False   Zone K3   \n",
       "2006-08-08 22:53:00      16-30 Min         True              False   Zone X4   \n",
       "2006-08-08 23:00:00       0-15 Min        False              False   Zone K1   \n",
       "2006-08-08 23:00:00      16-30 Min        False              False   Zone K3   \n",
       "\n",
       "                             combined  frisk  \n",
       "stop_datetime                                 \n",
       "2006-08-08 22:45:00  2006-08-08 22:45  False  \n",
       "2006-08-08 22:45:00  2006-08-08 22:45  False  \n",
       "2006-08-08 22:53:00  2006-08-08 22:53  False  \n",
       "2006-08-08 23:00:00  2006-08-08 23:00  False  \n",
       "2006-08-08 23:00:00  2006-08-08 23:00  False  \n",
       "\n",
       "[5 rows x 26 columns]"
      ]
     },
     "execution_count": 58,
     "metadata": {},
     "output_type": "execute_result"
    }
   ],
   "source": [
    "ri.tail()"
   ]
  },
  {
   "cell_type": "code",
   "execution_count": 40,
   "metadata": {},
   "outputs": [
    {
     "data": {
      "text/plain": [
       "frisk    bool\n",
       "dtype: object"
      ]
     },
     "execution_count": 40,
     "metadata": {},
     "output_type": "execute_result"
    }
   ],
   "source": [
    "ri = ri.astype({\"frisk\":\"bool\"})\n",
    "ri[[\"frisk\"]].dtypes"
   ]
  },
  {
   "cell_type": "code",
   "execution_count": null,
   "metadata": {},
   "outputs": [],
   "source": []
  },
  {
   "cell_type": "code",
   "execution_count": 41,
   "metadata": {},
   "outputs": [
    {
     "data": {
      "text/plain": [
       "204"
      ]
     },
     "execution_count": 41,
     "metadata": {},
     "output_type": "execute_result"
    }
   ],
   "source": [
    "ri[\"frisk\"].sum()"
   ]
  },
  {
   "cell_type": "code",
   "execution_count": null,
   "metadata": {},
   "outputs": [],
   "source": []
  },
  {
   "cell_type": "markdown",
   "metadata": {},
   "source": [
    "***"
   ]
  },
  {
   "cell_type": "markdown",
   "metadata": {},
   "source": [
    "## Comparing frisk rates by gender"
   ]
  },
  {
   "cell_type": "markdown",
   "metadata": {},
   "source": [
    "You'll compare the rates at which female and male drivers are frisked during a search. Are males frisked more often than females, perhaps because police officers consider them to be higher risk?\n",
    "\n",
    "Before doing any calculations, it's important to filter the ``DataFrame`` to only include the relevant subset of data, namely stops in which a search was conducted."
   ]
  },
  {
   "cell_type": "markdown",
   "metadata": {},
   "source": [
    "**INSTRUCTIONS**\n",
    "\n",
    "*   Create a ``DataFrame``, searched, that only contains rows in which ``search_conducted`` is ``True``.\n",
    "*   Take the mean of the frisk column to find out what percentage of searches included a frisk.\n",
    "*   Calculate the frisk rate for each gender using a ``.groupby()``."
   ]
  },
  {
   "cell_type": "code",
   "execution_count": 42,
   "metadata": {},
   "outputs": [],
   "source": [
    "df_search_conducted = ri[ri[\"search_conducted\"] == True]"
   ]
  },
  {
   "cell_type": "code",
   "execution_count": 63,
   "metadata": {},
   "outputs": [
    {
     "data": {
      "text/plain": [
       "driver_gender\n",
       "F    0.00293\n",
       "M    0.01049\n",
       "Name: frisk, dtype: float64"
      ]
     },
     "execution_count": 63,
     "metadata": {},
     "output_type": "execute_result"
    }
   ],
   "source": [
    "ri.groupby(\"driver_gender\").frisk.mean()"
   ]
  },
  {
   "cell_type": "code",
   "execution_count": 62,
   "metadata": {},
   "outputs": [
    {
     "data": {
      "text/plain": [
       "0.10139165009940358"
      ]
     },
     "execution_count": 62,
     "metadata": {},
     "output_type": "execute_result"
    }
   ],
   "source": [
    "df_search_conducted[\"frisk\"].mean()"
   ]
  },
  {
   "cell_type": "code",
   "execution_count": 45,
   "metadata": {},
   "outputs": [
    {
     "data": {
      "text/plain": [
       "False    1808\n",
       "True      204\n",
       "Name: frisk, dtype: int64"
      ]
     },
     "execution_count": 45,
     "metadata": {},
     "output_type": "execute_result"
    }
   ],
   "source": [
    "df_search_conducted[\"frisk\"].value_counts()"
   ]
  },
  {
   "cell_type": "code",
   "execution_count": 46,
   "metadata": {},
   "outputs": [
    {
     "data": {
      "text/plain": [
       "driver_gender\n",
       "F    0.101266\n",
       "M    0.101408\n",
       "Name: frisk, dtype: float64"
      ]
     },
     "execution_count": 46,
     "metadata": {},
     "output_type": "execute_result"
    }
   ],
   "source": [
    "df_search_conducted.groupby('driver_gender').frisk.mean()"
   ]
  },
  {
   "cell_type": "code",
   "execution_count": null,
   "metadata": {},
   "outputs": [],
   "source": []
  }
 ],
 "metadata": {
  "kernelspec": {
   "display_name": "Python 3",
   "language": "python",
   "name": "python3"
  },
  "language_info": {
   "codemirror_mode": {
    "name": "ipython",
    "version": 3
   },
   "file_extension": ".py",
   "mimetype": "text/x-python",
   "name": "python",
   "nbconvert_exporter": "python",
   "pygments_lexer": "ipython3",
   "version": "3.7.6"
  }
 },
 "nbformat": 4,
 "nbformat_minor": 4
}
